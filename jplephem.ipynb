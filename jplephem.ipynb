{
 "cells": [
  {
   "cell_type": "markdown",
   "metadata": {},
   "source": [
    "## Calculate Moon position with JPLephem"
   ]
  },
  {
   "cell_type": "code",
   "execution_count": 1,
   "metadata": {
    "collapsed": false
   },
   "outputs": [
    {
     "name": "stdout",
     "output_type": "stream",
     "text": [
      "Moon RA, dec (JPLephem+astropy): 48.7556183796 15.0494144934\n",
      "Moon alt, az (JPLephem+astropy): 37.0725678456 289.059811758\n",
      "Moon RA, dec (PyEphem): 48.7659190423 15.0513836692\n",
      "Moon alt, az (PyEphem): 36.3122772506 289.064342732\n"
     ]
    }
   ],
   "source": [
    "from __future__ import (absolute_import, division, print_function,\n",
    "                        unicode_literals)\n",
    "import numpy as np\n",
    "from astropy.time import Time\n",
    "from astropy.coordinates import SkyCoord, ICRS, GCRS, EarthLocation, cartesian_to_spherical \n",
    "import astropy.units as u\n",
    "\n",
    "def get_moon(time, location):\n",
    "    '''\n",
    "    Use JPLephem to get approximate ICRS coord for moon at ``time``\n",
    "    '''\n",
    "    # Get position of moon relative to Earth-moon barycenter with JPLephem\n",
    "    import jplephem\n",
    "    from jplephem.spk import SPK\n",
    "    # Note, this table is only good for years 1550–2650\n",
    "    kernel = SPK.open('de430.bsp')\n",
    "    t = Time(time)\n",
    "    cartesian_position = kernel[3,301].compute(t.jd) # Earth-moon barycenter to moon\n",
    "    \n",
    "    # Convert to GCRS coordinates\n",
    "    d, dec, ra = cartesian_to_spherical(*cartesian_position)\n",
    "    moon = GCRS(ra, dec, d, obsgeoloc=location)\n",
    "    return moon\n",
    "\n",
    "# Set up observer\n",
    "lat = '00:00:00'\n",
    "lon = '00:00:00'\n",
    "location = EarthLocation.from_geodetic(lon, lat, 0)\n",
    "t = Time('2015-01-01 00:00:00')\n",
    "\n",
    "# Get the position of the moon for this observer\n",
    "moon = get_moon(t, location)\n",
    "print('Moon RA, dec (JPLephem+astropy):', moon.ra.degree, moon.dec.degree)\n",
    "\n",
    "# Compute alt/az of moon at time with astropy+JPLephem\n",
    "import sys\n",
    "sys.path.insert(0, '/Users/bmorris/git/astroplan')\n",
    "from astroplan import Observer\n",
    "obs = Observer(location=location, pressure=0)\n",
    "altaz = obs.altaz(t, moon)\n",
    "print('Moon alt, az (JPLephem+astropy):', altaz.alt.degree, altaz.az.degree)\n",
    "\n",
    "# Compute comparisions with PyEphem\n",
    "import ephem\n",
    "pyephem_obs = ephem.Observer()\n",
    "pyephem_obs.lat = lat\n",
    "pyephem_obs.lon = lon\n",
    "pyephem_obs.elevation = 0\n",
    "pyephem_obs.date = t.iso\n",
    "pyephem_obs.pressure = 0\n",
    "pyephem_moon = ephem.Moon()\n",
    "pyephem_moon.compute(pyephem_obs)\n",
    "print('Moon RA, dec (PyEphem):', np.degrees(pyephem_moon.a_ra), np.degrees(pyephem_moon.a_dec))\n",
    "print('Moon alt, az (PyEphem):', np.degrees(pyephem_moon.alt), np.degrees(pyephem_moon.az))"
   ]
  },
  {
   "cell_type": "code",
   "execution_count": null,
   "metadata": {
    "collapsed": true
   },
   "outputs": [],
   "source": []
  }
 ],
 "metadata": {
  "kernelspec": {
   "display_name": "Python 2",
   "language": "python",
   "name": "python2"
  },
  "language_info": {
   "codemirror_mode": {
    "name": "ipython",
    "version": 2
   },
   "file_extension": ".py",
   "mimetype": "text/x-python",
   "name": "python",
   "nbconvert_exporter": "python",
   "pygments_lexer": "ipython2",
   "version": "2.7.10"
  }
 },
 "nbformat": 4,
 "nbformat_minor": 0
}
