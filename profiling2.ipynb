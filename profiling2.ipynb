{
 "cells": [
  {
   "cell_type": "code",
   "execution_count": 3,
   "metadata": {
    "collapsed": false
   },
   "outputs": [
    {
     "name": "stdout",
     "output_type": "stream",
     "text": [
      "90.3618428707\n"
     ]
    }
   ],
   "source": [
    "from astroplan import Observer, FixedTarget, get_site\n",
    "from astropy.coordinates import SkyCoord\n",
    "from astropy.time import Time\n",
    "from time import time as t\n",
    "\n",
    "location = get_site('Keck')\n",
    "target_names = ['Vega', 'Mira', 'Sirius']\n",
    "vega = FixedTarget.from_name(\"Vega\")\n",
    "targets = [FixedTarget.from_name(name) for name in target_names]\n",
    "keck = Observer(location=location)\n",
    "time = Time('2015-07-24 10:00:00')\n",
    "start = t()\n",
    "keck.calc_rise(time, targets)\n",
    "end = t()\n",
    "print(end-start)"
   ]
  },
  {
   "cell_type": "code",
   "execution_count": 4,
   "metadata": {
    "collapsed": false
   },
   "outputs": [
    {
     "name": "stdout",
     "output_type": "stream",
     "text": [
      "0.393373966217\n"
     ]
    }
   ],
   "source": [
    "start = t()\n",
    "keck.calc_rise(time, vega)\n",
    "end = t()\n",
    "print(end-start)"
   ]
  },
  {
   "cell_type": "code",
   "execution_count": 5,
   "metadata": {
    "collapsed": false
   },
   "outputs": [
    {
     "name": "stdout",
     "output_type": "stream",
     "text": [
      "31.2070858479\n"
     ]
    }
   ],
   "source": [
    "start = t()\n",
    "keck.calc_rise(time, [vega])\n",
    "end = t()\n",
    "print(end-start)"
   ]
  },
  {
   "cell_type": "code",
   "execution_count": null,
   "metadata": {
    "collapsed": true
   },
   "outputs": [],
   "source": []
  }
 ],
 "metadata": {
  "kernelspec": {
   "display_name": "Python 2",
   "language": "python",
   "name": "python2"
  },
  "language_info": {
   "codemirror_mode": {
    "name": "ipython",
    "version": 2
   },
   "file_extension": ".py",
   "mimetype": "text/x-python",
   "name": "python",
   "nbconvert_exporter": "python",
   "pygments_lexer": "ipython2",
   "version": "2.7.10"
  }
 },
 "nbformat": 4,
 "nbformat_minor": 0
}
