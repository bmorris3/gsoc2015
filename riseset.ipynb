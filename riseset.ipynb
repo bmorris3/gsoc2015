{
 "cells": [
  {
   "cell_type": "markdown",
   "metadata": {},
   "source": [
    "# Calculating rise/set times with astropy vs PyEphem"
   ]
  },
  {
   "cell_type": "markdown",
   "metadata": {},
   "source": [
    "Calculate alt/az/RA/Dec/HA: \n",
    "\n",
    "$$ RA = HA - \\arccos\\left[{\\sin(Alt) - \\sin(Dec) \\sin(Lat) \\over \\cos(Dec) \\cos(Lat)}\\right] $$\n",
    "or\n",
    "$$ HA = RA + \\arccos\\left[{\\sin(Alt) - \\sin(Dec) \\sin(Lat) \\over \\cos(Dec) \\cos(Lat)}\\right] $$\n",
    "References: see [here](http://en.wikibooks.org/wiki/General_Astronomy/Coordinate_Systems) and [here](http://en.wikipedia.org/wiki/Celestial_coordinate_system#Equatorial_.E2.86.90.E2.86.92_horizontal)"
   ]
  },
  {
   "cell_type": "code",
   "execution_count": 205,
   "metadata": {
    "collapsed": false
   },
   "outputs": [
    {
     "name": "stdout",
     "output_type": "stream",
     "text": [
      "Rise: 2014-05-11 03:41:14.675896\n",
      "Set: 2014-05-11 15:41:14.675896\n",
      "Transit: 2014-05-11 09:41:14.675896\n"
     ]
    }
   ],
   "source": [
    "# With astropy: \n",
    "\n",
    "import numpy as np\n",
    "from astropy.time import Time\n",
    "import astropy.units as u\n",
    "import datetime\n",
    "\n",
    "alt = 0.0\n",
    "RA = 15*u.deg\n",
    "Dec = 15*u.deg\n",
    "latitude = 0*u.deg\n",
    "longitude = 0*u.deg\n",
    "date = Time('2014-05-12 00:00:00', format='iso')\n",
    "\n",
    "def getHA(RA, Dec, lat, alt):\n",
    "    return np.arccos( (np.sin(alt) - np.sin(Dec)*np.sin(lat))\n",
    "                         / (np.cos(Dec)*np.cos(lat)) ).to(u.hourangle)\n",
    "\n",
    "def previous_rise_set_transit(HA, RA, time, longitude, kind='apparent', offset=0):\n",
    "    '''\n",
    "    time : instance of `astropy.time.Time`\n",
    "    '''\n",
    "    lst = time.sidereal_time(kind, longitude)\n",
    "    \n",
    "    # Previous transit was this many hours ago\n",
    "    previous_transit_deltaHA =  lst - RA.to(u.hourangle)\n",
    "    previous_transit = (time.datetime - datetime.timedelta(\n",
    "                        hours=float(previous_transit_deltaHA/u.hourangle)) +\n",
    "                        datetime.timedelta(days=offset))\n",
    "    rise_time = previous_transit - datetime.timedelta(hours=float(HA/u.hourangle))\n",
    "    set_time = previous_transit + datetime.timedelta(hours=float(HA/u.hourangle))\n",
    "    return rise_time, set_time, previous_transit\n",
    "\n",
    "HA = getHA(RA, Dec, lat, alt)\n",
    "\n",
    "print(\"Rise: {0}\\nSet: {1}\\nTransit: {2}\".format(\n",
    "        *previous_rise_set_transit(HA, RA,date, longitude)))"
   ]
  },
  {
   "cell_type": "code",
   "execution_count": 206,
   "metadata": {
    "collapsed": false
   },
   "outputs": [
    {
     "name": "stdout",
     "output_type": "stream",
     "text": [
      "Rise: 2014/5/11 03:43:00\n",
      "Set: 2014/5/11 15:45:40\n",
      "Transit: 2014/5/11 09:44:20\n"
     ]
    }
   ],
   "source": [
    "# With PyEphem:\n",
    "import ephem\n",
    "\n",
    "veq = ephem.FixedBody()\n",
    "veq._ra = ephem.hours('01:00:00') # hours!\n",
    "veq._dec = ephem.degrees('15:00:00')\n",
    "o = ephem.Observer()\n",
    "o.lat = 0\n",
    "o.lon = 0\n",
    "o.date = date.iso\n",
    "veq.compute(o)\n",
    "risetime = o.previous_rising(veq)\n",
    "settime = o.previous_setting(veq)\n",
    "trans = o.previous_transit(veq)\n",
    "\n",
    "print 'Rise:', risetime\n",
    "print 'Set:', settime\n",
    "print 'Transit:', trans\n"
   ]
  },
  {
   "cell_type": "markdown",
   "metadata": {},
   "source": [
    "**NOTE** This astropy solution only works for dates before the present, since the astropy.time.Time.sidereal_time() calls the [IERS B table](https://github.com/astropy/astropy/blob/master/astropy/utils/iers/iers.py#L34) by [design](http://astropy.readthedocs.org/en/latest/_modules/astropy/time/core.html#Time.sidereal_time) and can't be switched to the B table with a keyword argument (yet)."
   ]
  },
  {
   "cell_type": "code",
   "execution_count": null,
   "metadata": {
    "collapsed": true
   },
   "outputs": [],
   "source": []
  }
 ],
 "metadata": {
  "kernelspec": {
   "display_name": "Python 2",
   "language": "python",
   "name": "python2"
  },
  "language_info": {
   "codemirror_mode": {
    "name": "ipython",
    "version": 2
   },
   "file_extension": ".py",
   "mimetype": "text/x-python",
   "name": "python",
   "nbconvert_exporter": "python",
   "pygments_lexer": "ipython2",
   "version": "2.7.9"
  }
 },
 "nbformat": 4,
 "nbformat_minor": 0
}
