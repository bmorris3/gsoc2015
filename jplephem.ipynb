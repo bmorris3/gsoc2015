{
 "cells": [
  {
   "cell_type": "markdown",
   "metadata": {},
   "source": [
    "## Calculate Moon position with JPLephem"
   ]
  },
  {
   "cell_type": "code",
   "execution_count": 14,
   "metadata": {
    "collapsed": false
   },
   "outputs": [
    {
     "name": "stdout",
     "output_type": "stream",
     "text": [
      "Moon RA, dec (JPLephem+astropy): 62.229557107 17.1665467007\n",
      "Moon alt, az (JPLephem+astropy): 48.0525698178 296.260855752\n"
     ]
    },
    {
     "ename": "UnitConversionError",
     "evalue": "Can only apply 'add' function to quantities with compatible dimensions",
     "output_type": "error",
     "traceback": [
      "\u001b[0;31m---------------------------------------------------------------------------\u001b[0m",
      "\u001b[0;31mUnitConversionError\u001b[0m                       Traceback (most recent call last)",
      "\u001b[0;32m<ipython-input-14-835d87af41e5>\u001b[0m in \u001b[0;36m<module>\u001b[0;34m()\u001b[0m\n\u001b[1;32m     61\u001b[0m \u001b[0maltaz\u001b[0m \u001b[0;34m=\u001b[0m \u001b[0mobs\u001b[0m\u001b[0;34m.\u001b[0m\u001b[0maltaz\u001b[0m\u001b[0;34m(\u001b[0m\u001b[0mt\u001b[0m\u001b[0;34m,\u001b[0m \u001b[0mmoon\u001b[0m\u001b[0;34m)\u001b[0m\u001b[0;34m\u001b[0m\u001b[0m\n\u001b[1;32m     62\u001b[0m \u001b[0;32mprint\u001b[0m\u001b[0;34m(\u001b[0m\u001b[0;34m'Moon alt, az (JPLephem+astropy):'\u001b[0m\u001b[0;34m,\u001b[0m \u001b[0maltaz\u001b[0m\u001b[0;34m.\u001b[0m\u001b[0malt\u001b[0m\u001b[0;34m.\u001b[0m\u001b[0mdegree\u001b[0m\u001b[0;34m,\u001b[0m \u001b[0maltaz\u001b[0m\u001b[0;34m.\u001b[0m\u001b[0maz\u001b[0m\u001b[0;34m.\u001b[0m\u001b[0mdegree\u001b[0m\u001b[0;34m)\u001b[0m\u001b[0;34m\u001b[0m\u001b[0m\n\u001b[0;32m---> 63\u001b[0;31m \u001b[0;32mprint\u001b[0m\u001b[0;34m(\u001b[0m\u001b[0;34m'Illumination (JPLephem+astropy):'\u001b[0m\u001b[0;34m,\u001b[0m \u001b[0mcalc_moon_illumination\u001b[0m\u001b[0;34m(\u001b[0m\u001b[0mmoon\u001b[0m\u001b[0;34m,\u001b[0m \u001b[0mget_sun\u001b[0m\u001b[0;34m(\u001b[0m\u001b[0mt\u001b[0m\u001b[0;34m)\u001b[0m\u001b[0;34m)\u001b[0m\u001b[0;34m)\u001b[0m\u001b[0;34m\u001b[0m\u001b[0m\n\u001b[0m\u001b[1;32m     64\u001b[0m \u001b[0;34m\u001b[0m\u001b[0m\n\u001b[1;32m     65\u001b[0m \u001b[0;31m# Compute comparisions with PyEphem\u001b[0m\u001b[0;34m\u001b[0m\u001b[0;34m\u001b[0m\u001b[0m\n",
      "\u001b[0;32m<ipython-input-14-835d87af41e5>\u001b[0m in \u001b[0;36mcalc_moon_illumination\u001b[0;34m(moon, sun)\u001b[0m\n\u001b[1;32m     42\u001b[0m     \u001b[0mCalculate\u001b[0m \u001b[0mfraction\u001b[0m \u001b[0mof\u001b[0m \u001b[0mMoon\u001b[0m \u001b[0milluminated\u001b[0m \u001b[0mwhen\u001b[0m \u001b[0mmoon\u001b[0m \u001b[0;32mis\u001b[0m \u001b[0mat\u001b[0m \u001b[0mphase\u001b[0m \u001b[0mangle\u001b[0m \u001b[0;34m`\u001b[0m\u001b[0;34m`\u001b[0m\u001b[0mi\u001b[0m\u001b[0;34m`\u001b[0m\u001b[0;34m`\u001b[0m\u001b[0;34m\u001b[0m\u001b[0m\n\u001b[1;32m     43\u001b[0m     '''\n\u001b[0;32m---> 44\u001b[0;31m     \u001b[0mi\u001b[0m \u001b[0;34m=\u001b[0m \u001b[0mcalc_moon_phase_angle\u001b[0m\u001b[0;34m(\u001b[0m\u001b[0mmoon\u001b[0m\u001b[0;34m,\u001b[0m \u001b[0msun\u001b[0m\u001b[0;34m)\u001b[0m\u001b[0;34m\u001b[0m\u001b[0m\n\u001b[0m\u001b[1;32m     45\u001b[0m     \u001b[0mk\u001b[0m \u001b[0;34m=\u001b[0m \u001b[0;34m(\u001b[0m\u001b[0;36m1\u001b[0m \u001b[0;34m+\u001b[0m \u001b[0mnp\u001b[0m\u001b[0;34m.\u001b[0m\u001b[0mcos\u001b[0m\u001b[0;34m(\u001b[0m\u001b[0mi\u001b[0m\u001b[0;34m)\u001b[0m\u001b[0;34m)\u001b[0m\u001b[0;34m/\u001b[0m\u001b[0;36m2.0\u001b[0m\u001b[0;34m\u001b[0m\u001b[0m\n\u001b[1;32m     46\u001b[0m     \u001b[0;32mreturn\u001b[0m \u001b[0mk\u001b[0m\u001b[0;34m\u001b[0m\u001b[0m\n",
      "\u001b[0;32m<ipython-input-14-835d87af41e5>\u001b[0m in \u001b[0;36mcalc_moon_phase_angle\u001b[0;34m(moon, sun)\u001b[0m\n\u001b[1;32m     32\u001b[0m     \u001b[0mCalculate\u001b[0m \u001b[0mlunar\u001b[0m \u001b[0morbital\u001b[0m \u001b[0mphase\u001b[0m \u001b[0;34m[\u001b[0m\u001b[0mradians\u001b[0m\u001b[0;34m]\u001b[0m\u001b[0;34m\u001b[0m\u001b[0m\n\u001b[1;32m     33\u001b[0m     '''\n\u001b[0;32m---> 34\u001b[0;31m     distance_moon_sun = np.sqrt(sun.distance**2 + moon.distance**2 - \n\u001b[0m\u001b[1;32m     35\u001b[0m                                 2*sun.distance*moon.distance*np.cos(sun.separation(moon)))\n\u001b[1;32m     36\u001b[0m     i = np.arccos((distance_moon_sun**2 + moon.distance**2 - \n",
      "\u001b[0;32m/Users/bmorris/git/astropy/astropy/units/quantity.pyc\u001b[0m in \u001b[0;36m__array_prepare__\u001b[0;34m(self, obj, context)\u001b[0m\n\u001b[1;32m    308\u001b[0m         \u001b[0;31m# the unit the output from the ufunc will have.\u001b[0m\u001b[0;34m\u001b[0m\u001b[0;34m\u001b[0m\u001b[0m\n\u001b[1;32m    309\u001b[0m         \u001b[0;32mif\u001b[0m \u001b[0mfunction\u001b[0m \u001b[0;32min\u001b[0m \u001b[0mUFUNC_HELPERS\u001b[0m\u001b[0;34m:\u001b[0m\u001b[0;34m\u001b[0m\u001b[0m\n\u001b[0;32m--> 310\u001b[0;31m             \u001b[0mconverters\u001b[0m\u001b[0;34m,\u001b[0m \u001b[0mresult_unit\u001b[0m \u001b[0;34m=\u001b[0m \u001b[0mUFUNC_HELPERS\u001b[0m\u001b[0;34m[\u001b[0m\u001b[0mfunction\u001b[0m\u001b[0;34m]\u001b[0m\u001b[0;34m(\u001b[0m\u001b[0mfunction\u001b[0m\u001b[0;34m,\u001b[0m \u001b[0;34m*\u001b[0m\u001b[0munits\u001b[0m\u001b[0;34m)\u001b[0m\u001b[0;34m\u001b[0m\u001b[0m\n\u001b[0m\u001b[1;32m    311\u001b[0m         \u001b[0;32melse\u001b[0m\u001b[0;34m:\u001b[0m\u001b[0;34m\u001b[0m\u001b[0m\n\u001b[1;32m    312\u001b[0m             raise TypeError(\"Unknown ufunc {0}.  Please raise issue on \"\n",
      "\u001b[0;32m/Users/bmorris/git/astropy/astropy/units/quantity_helper.pyc\u001b[0m in \u001b[0;36mhelper_twoarg_invariant\u001b[0;34m(f, unit1, unit2)\u001b[0m\n\u001b[1;32m    289\u001b[0m \u001b[0;34m\u001b[0m\u001b[0m\n\u001b[1;32m    290\u001b[0m \u001b[0;32mdef\u001b[0m \u001b[0mhelper_twoarg_invariant\u001b[0m\u001b[0;34m(\u001b[0m\u001b[0mf\u001b[0m\u001b[0;34m,\u001b[0m \u001b[0munit1\u001b[0m\u001b[0;34m,\u001b[0m \u001b[0munit2\u001b[0m\u001b[0;34m)\u001b[0m\u001b[0;34m:\u001b[0m\u001b[0;34m\u001b[0m\u001b[0m\n\u001b[0;32m--> 291\u001b[0;31m     \u001b[0;32mreturn\u001b[0m \u001b[0mget_converters_and_unit\u001b[0m\u001b[0;34m(\u001b[0m\u001b[0mf\u001b[0m\u001b[0;34m,\u001b[0m \u001b[0munit1\u001b[0m\u001b[0;34m,\u001b[0m \u001b[0munit2\u001b[0m\u001b[0;34m)\u001b[0m\u001b[0;34m\u001b[0m\u001b[0m\n\u001b[0m\u001b[1;32m    292\u001b[0m \u001b[0;34m\u001b[0m\u001b[0m\n\u001b[1;32m    293\u001b[0m \u001b[0mUFUNC_HELPERS\u001b[0m\u001b[0;34m[\u001b[0m\u001b[0mnp\u001b[0m\u001b[0;34m.\u001b[0m\u001b[0madd\u001b[0m\u001b[0;34m]\u001b[0m \u001b[0;34m=\u001b[0m \u001b[0mhelper_twoarg_invariant\u001b[0m\u001b[0;34m\u001b[0m\u001b[0m\n",
      "\u001b[0;32m/Users/bmorris/git/astropy/astropy/units/quantity_helper.pyc\u001b[0m in \u001b[0;36mget_converters_and_unit\u001b[0;34m(f, *units)\u001b[0m\n\u001b[1;32m    283\u001b[0m                 \u001b[0;34m\"Can only apply '{0}' function to quantities \"\u001b[0m\u001b[0;34m\u001b[0m\u001b[0m\n\u001b[1;32m    284\u001b[0m                 \u001b[0;34m\"with compatible dimensions\"\u001b[0m\u001b[0;34m\u001b[0m\u001b[0m\n\u001b[0;32m--> 285\u001b[0;31m                 .format(f.__name__))\n\u001b[0m\u001b[1;32m    286\u001b[0m \u001b[0;34m\u001b[0m\u001b[0m\n\u001b[1;32m    287\u001b[0m         \u001b[0;32mreturn\u001b[0m \u001b[0mconverters\u001b[0m\u001b[0;34m,\u001b[0m \u001b[0munits\u001b[0m\u001b[0;34m[\u001b[0m\u001b[0mfixed\u001b[0m\u001b[0;34m]\u001b[0m\u001b[0;34m\u001b[0m\u001b[0m\n",
      "\u001b[0;31mUnitConversionError\u001b[0m: Can only apply 'add' function to quantities with compatible dimensions"
     ]
    }
   ],
   "source": [
    "from __future__ import (absolute_import, division, print_function,\n",
    "                        unicode_literals)\n",
    "import numpy as np\n",
    "from astropy.time import Time\n",
    "from astropy.coordinates import SkyCoord, ICRS, GCRS, EarthLocation, cartesian_to_spherical, get_sun\n",
    "import astropy.units as u\n",
    "import sys\n",
    "sys.path.insert(0, '/Users/bmorris/git/astroplan')\n",
    "\n",
    "def get_moon(time, location):\n",
    "    '''\n",
    "    Use JPLephem to get approximate ICRS coord for moon at ``time``. Only accepts\n",
    "    ``times`` between years 1550–2650.\n",
    "    '''\n",
    "    # Get position of moon relative to Earth-moon barycenter with JPLephem\n",
    "    import jplephem\n",
    "    from jplephem.spk import SPK\n",
    "    # Note, this table is only good for years 1550–2650. About: \n",
    "    # http://naif.jpl.nasa.gov/pub/naif/generic_kernels/spk/planets/aareadme_de430-de431.txt\n",
    "    # Table source: \n",
    "    # http://naif.jpl.nasa.gov/pub/naif/generic_kernels/spk/planets/de430.bsp\n",
    "    kernel = SPK.open('de430.bsp')\n",
    "    t = Time(time)\n",
    "    cartesian_position = kernel[3,301].compute(t.jd) # Earth-moon barycenter to moon\n",
    "    \n",
    "    # Convert to GCRS coordinates\n",
    "    d, dec, ra = cartesian_to_spherical(*cartesian_position)\n",
    "    return GCRS(ra, dec, d, obsgeoloc=location)\n",
    "\n",
    "def calc_moon_phase_angle(moon, sun):\n",
    "    '''\n",
    "    Calculate lunar orbital phase [radians]\n",
    "    '''\n",
    "    distance_moon_sun = np.sqrt(sun.distance**2 + moon.distance**2 - \n",
    "                                2*sun.distance*moon.distance*np.cos(sun.separation(moon)))\n",
    "    i = np.arccos((distance_moon_sun**2 + moon.distance**2 - \n",
    "                   sun.distance**2)/(2*distance_moon_sun*moon.distance))\n",
    "    return i\n",
    "\n",
    "def calc_moon_illumination(moon, sun):\n",
    "    '''\n",
    "    Calculate fraction of Moon illuminated when moon is at phase angle ``i``\n",
    "    '''\n",
    "    i = calc_moon_phase_angle(moon, sun)\n",
    "    k = (1 + np.cos(i))/2.0\n",
    "    return k\n",
    "\n",
    "# Set up observer\n",
    "lat = '00:00:00'\n",
    "lon = '00:00:00'\n",
    "location = EarthLocation.from_geodetic(lon, lat, 0)\n",
    "t = Time('2015-01-02 00:00:00')\n",
    "\n",
    "# Get the position of the moon for this observer\n",
    "moon = get_moon(t, location)\n",
    "print('Moon RA, dec (JPLephem+astropy):', moon.ra.degree, moon.dec.degree)\n",
    "\n",
    "# Compute alt/az of moon at time with astropy+JPLephem\n",
    "from astroplan import Observer\n",
    "obs = Observer(location=location, pressure=0)\n",
    "altaz = obs.altaz(t, moon)\n",
    "print('Moon alt, az (JPLephem+astropy):', altaz.alt.degree, altaz.az.degree)\n",
    "print('Illumination (JPLephem+astropy):', calc_moon_illumination(moon, get_sun(t)))\n",
    "\n",
    "# Compute comparisions with PyEphem\n",
    "import ephem\n",
    "pyephem_obs = ephem.Observer()\n",
    "pyephem_obs.lat = lat\n",
    "pyephem_obs.lon = lon\n",
    "pyephem_obs.elevation = 0\n",
    "pyephem_obs.date = t.iso\n",
    "pyephem_obs.pressure = 0\n",
    "pyephem_moon = ephem.Moon()\n",
    "pyephem_moon.compute(pyephem_obs)\n",
    "print('\\nMoon RA, dec (PyEphem):', np.degrees(pyephem_moon.a_ra), np.degrees(pyephem_moon.a_dec))\n",
    "print('Moon alt, az (PyEphem):', np.degrees(pyephem_moon.alt), np.degrees(pyephem_moon.az))\n",
    "print('Illumination (PyEphem): ', pyephem_moon.moon_phase)"
   ]
  },
  {
   "cell_type": "code",
   "execution_count": null,
   "metadata": {
    "collapsed": true
   },
   "outputs": [],
   "source": []
  }
 ],
 "metadata": {
  "kernelspec": {
   "display_name": "Python 2",
   "language": "python",
   "name": "python2"
  }
 },
 "nbformat": 4,
 "nbformat_minor": 0
}
