{
 "cells": [
  {
   "cell_type": "markdown",
   "metadata": {},
   "source": [
    "## Calculate Moon position with JPLephem"
   ]
  },
  {
   "cell_type": "code",
   "execution_count": 42,
   "metadata": {
    "collapsed": false
   },
   "outputs": [
    {
     "name": "stdout",
     "output_type": "stream",
     "text": [
      "Moon RA, dec (JPLephem+astropy): 62.229557107 17.1665467007\n",
      "Moon alt, az (JPLephem+astropy): [-15.80227262] [ 261.29845632]\n",
      "Illumination (JPLephem+astropy): [ 0.89074998]\n",
      "\n",
      "Moon RA, dec (PyEphem): 62.2399250651 17.1678454694\n",
      "Moon alt, az (PyEphem): 47.4206681054 296.266913816\n",
      "Illumination (PyEphem):  0.896286911345\n"
     ]
    }
   ],
   "source": [
    "from __future__ import (absolute_import, division, print_function,\n",
    "                        unicode_literals)\n",
    "import numpy as np\n",
    "from astropy.time import Time\n",
    "from astropy.coordinates import SkyCoord, ICRS, GCRS, EarthLocation, cartesian_to_spherical \n",
    "import astropy.units as u\n",
    "import sys\n",
    "sys.path.insert(0, '/Users/bmorris/git/astroplan')\n",
    "\n",
    "def get_moon(time, location):\n",
    "    '''\n",
    "    Use JPLephem to get approximate ICRS coord for moon at ``time``. Only accepts\n",
    "    ``times`` between years 1550–2650.\n",
    "    '''\n",
    "    # Get position of moon relative to Earth-moon barycenter with JPLephem\n",
    "    import jplephem\n",
    "    from jplephem.spk import SPK\n",
    "    # Note, this table is only good for years 1550–2650. About: \n",
    "    # http://naif.jpl.nasa.gov/pub/naif/generic_kernels/spk/planets/aareadme_de430-de431.txt\n",
    "    kernel = SPK.open('de430.bsp')\n",
    "    t = Time(time)\n",
    "    cartesian_position = kernel[3,301].compute(t.jd) # Earth-moon barycenter to moon\n",
    "    \n",
    "    # Convert to GCRS coordinates\n",
    "    d, dec, ra = cartesian_to_spherical(*cartesian_position)\n",
    "    return GCRS(ra, dec, d*u.km, obsgeoloc=location)\n",
    "\n",
    "def calc_moon_phase_angle(moon, sun):\n",
    "    '''\n",
    "    Calculate lunar orbital phase [radians]\n",
    "    '''\n",
    "    distance_moon_sun = np.sqrt(sun.distance**2 + moon.distance**2 - \n",
    "                                2*sun.distance*moon.distance*np.cos(sun.separation(moon)))\n",
    "    i = np.arccos((distance_moon_sun**2 + moon.distance**2 - \n",
    "                   sun.distance**2)/(2*distance_moon_sun*moon.distance))\n",
    "    return i\n",
    "\n",
    "def calc_moon_illumination(moon, sun):\n",
    "    '''\n",
    "    Calculate fraction of Moon illuminated when moon is at phase angle ``i``\n",
    "    '''\n",
    "    i = calc_moon_phase_angle(moon, sun)\n",
    "    k = (1 + np.cos(i))/2.0\n",
    "    return k\n",
    "\n",
    "# Set up observer\n",
    "lat = '00:00:00'\n",
    "lon = '00:00:00'\n",
    "location = EarthLocation.from_geodetic(lon, lat, 0)\n",
    "t = Time('2015-01-02 00:00:00')\n",
    "\n",
    "# Get the position of the moon for this observer\n",
    "moon = get_moon(t, location)\n",
    "print('Moon RA, dec (JPLephem+astropy):', moon.ra.degree, moon.dec.degree)\n",
    "\n",
    "# Compute alt/az of moon at time with astropy+JPLephem\n",
    "from astroplan import Observer\n",
    "obs = Observer(location=location, pressure=0)\n",
    "altaz = obs.altaz(t, moon)\n",
    "print('Moon alt, az (JPLephem+astropy):', altaz.alt.degree, altaz.az.degree)\n",
    "print('Illumination (JPLephem+astropy):', calc_moon_illumination(moon, get_sun(t)))\n",
    "\n",
    "# Compute comparisions with PyEphem\n",
    "import ephem\n",
    "pyephem_obs = ephem.Observer()\n",
    "pyephem_obs.lat = lat\n",
    "pyephem_obs.lon = lon\n",
    "pyephem_obs.elevation = 0\n",
    "pyephem_obs.date = t.iso\n",
    "pyephem_obs.pressure = 0\n",
    "pyephem_moon = ephem.Moon()\n",
    "pyephem_moon.compute(pyephem_obs)\n",
    "print('\\nMoon RA, dec (PyEphem):', np.degrees(pyephem_moon.a_ra), np.degrees(pyephem_moon.a_dec))\n",
    "print('Moon alt, az (PyEphem):', np.degrees(pyephem_moon.alt), np.degrees(pyephem_moon.az))\n",
    "print('Illumination (PyEphem): ', pyephem_moon.moon_phase)"
   ]
  },
  {
   "cell_type": "code",
   "execution_count": null,
   "metadata": {
    "collapsed": true
   },
   "outputs": [],
   "source": []
  }
 ],
 "metadata": {
  "kernelspec": {
   "display_name": "Python 2",
   "language": "python",
   "name": "python2"
  },
  "language_info": {
   "codemirror_mode": {
    "name": "ipython",
    "version": 2
   },
   "file_extension": ".py",
   "mimetype": "text/x-python",
   "name": "python",
   "nbconvert_exporter": "python",
   "pygments_lexer": "ipython2",
   "version": "2.7.10"
  }
 },
 "nbformat": 4,
 "nbformat_minor": 0
}
