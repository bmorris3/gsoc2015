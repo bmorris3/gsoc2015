{
 "cells": [
  {
   "cell_type": "markdown",
   "metadata": {},
   "source": [
    "# Time zones \n",
    "🌐!\n",
    "\n",
    "This is a demo of some convenience methods for manipulating timezones with the `Observer` class. The two methods are: \n",
    "\n",
    "* **`self.local_to_astropy_time(datetime)`** which converts a naive *or* timezone-aware datetime to an astropy.time.Time object. \n",
    " * If the input datetime is naive, it assumes that the implied timezone is the one saved in the instance of `Observer` (in `self.timezone`).\n",
    "\n",
    "* **`self.astropy_to_local_time(astropy_time)`** which converts an astropy.time.Time object into a localized datetime, in the timezone saved in the instance of `Observer` (in `self.timezone`)."
   ]
  },
  {
   "cell_type": "code",
   "execution_count": 1,
   "metadata": {
    "collapsed": false
   },
   "outputs": [
    {
     "name": "stdout",
     "output_type": "stream",
     "text": [
      "astropy.time.Time (UTC): 2015-07-14 10:00:00\n"
     ]
    }
   ],
   "source": [
    "from __future__ import (absolute_import, division, print_function,\n",
    "                        unicode_literals)\n",
    "\n",
    "from astropy.time import Time\n",
    "import astropy.units as u\n",
    "from astropy.coordinates import EarthLocation\n",
    "import pytz\n",
    "import datetime\n",
    "\n",
    "from astroplan import Observer\n",
    "\n",
    "# Set up an observer at ~Subaru\n",
    "location = EarthLocation.from_geodetic(-155.4*u.deg, 19.8*u.deg)\n",
    "obs = Observer(location=location, timezone=pytz.timezone('US/Hawaii'))\n",
    "\n",
    "# Pick a local (Hawaii) time to observe: midnight\n",
    "local_naive_datetime = datetime.datetime(2015, 7, 14, 0)\n",
    "\n",
    "# What is the astropy.time.Time equivalent for this datetime?\n",
    "astropy_time = obs.local_to_astropy_time(local_naive_datetime)\n",
    "print('astropy.time.Time (UTC):', astropy_time)"
   ]
  },
  {
   "cell_type": "markdown",
   "metadata": {},
   "source": [
    "Convert that `astropy.time.Time` back to a localized datetime, arriving back at the original datetime (only this one is localized):"
   ]
  },
  {
   "cell_type": "code",
   "execution_count": 2,
   "metadata": {
    "collapsed": false
   },
   "outputs": [
    {
     "name": "stdout",
     "output_type": "stream",
     "text": [
      "datetime: 2015-07-14 00:00:00-10:00\n",
      "new datetime equivalent to original naive datetime?: True\n"
     ]
    }
   ],
   "source": [
    "localized_datetime = obs.astropy_to_local_time(astropy_time)\n",
    "print('datetime:', localized_datetime)\n",
    "print('new datetime equivalent to original naive datetime?:', \n",
    "      local_naive_datetime == localized_datetime.replace(tzinfo=None))"
   ]
  },
  {
   "cell_type": "markdown",
   "metadata": {},
   "source": [
    "Let's say the Subaru observer is remotely observing from the East Coast. Let's convert their local time (Eastern) to an astropy time. Since this datetime is localized, `local_to_astropy_time` will use the datetime's timezone (rather than assuming `self.timezone`):"
   ]
  },
  {
   "cell_type": "code",
   "execution_count": 3,
   "metadata": {
    "collapsed": false
   },
   "outputs": [
    {
     "name": "stdout",
     "output_type": "stream",
     "text": [
      "Convert local East Coast time to UTC: 2015-07-14 10:00:00\n",
      "Equivalent to original astropy time?: True\n"
     ]
    }
   ],
   "source": [
    "east_coast_datetime = pytz.timezone('US/Eastern').localize(datetime.datetime(2015, 7, 14, 6))\n",
    "east_coast_astropy_time = obs.local_to_astropy_time(east_coast_datetime)\n",
    "print('Convert local East Coast time to UTC:', east_coast_astropy_time)\n",
    "print('Equivalent to original astropy time?:', east_coast_astropy_time == astropy_time)"
   ]
  },
  {
   "cell_type": "markdown",
   "metadata": {},
   "source": [
    "### Warning\n",
    "How you construct your localized timezone is important! *Don't initialize datetimes with\n",
    "the `tzinfo` kwarg.* Here's an example of when it doesn't work. These two times *should* be equal, but are not. See [pytz documentation](http://pytz.sourceforge.net/#localized-times-and-date-arithmetic) for discussion."
   ]
  },
  {
   "cell_type": "code",
   "execution_count": 4,
   "metadata": {
    "collapsed": false
   },
   "outputs": [
    {
     "name": "stdout",
     "output_type": "stream",
     "text": [
      "with tz assigned in kwarg: 2015-07-14 06:00:00-04:56\n",
      "with localization by tz.localize(dt): 2015-07-14 06:00:00-04:00\n"
     ]
    }
   ],
   "source": [
    "tzinfo_kwarg = datetime.datetime(2015, 7, 14, 6, tzinfo=pytz.timezone('US/Eastern'))\n",
    "localized = pytz.timezone('US/Eastern').localize(datetime.datetime(2015, 7, 14, 6))\n",
    "print('with tz assigned in kwarg:', tzinfo_kwarg)\n",
    "print('with localization by tz.localize(dt):', localized)"
   ]
  },
  {
   "cell_type": "code",
   "execution_count": null,
   "metadata": {
    "collapsed": true
   },
   "outputs": [],
   "source": []
  }
 ],
 "metadata": {
  "kernelspec": {
   "display_name": "Python 2",
   "language": "python",
   "name": "python2"
  },
  "language_info": {
   "codemirror_mode": {
    "name": "ipython",
    "version": 2
   },
   "file_extension": ".py",
   "mimetype": "text/x-python",
   "name": "python",
   "nbconvert_exporter": "python",
   "pygments_lexer": "ipython2",
   "version": "2.7.10"
  }
 },
 "nbformat": 4,
 "nbformat_minor": 0
}
