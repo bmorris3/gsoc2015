{
 "cells": [
  {
   "cell_type": "markdown",
   "metadata": {},
   "source": [
    "# Calculating rise/set times with astropy"
   ]
  },
  {
   "cell_type": "markdown",
   "metadata": {},
   "source": [
    "Coordinate system definitions:\n",
    "\n",
    "| Parameter | Definition | \n",
    "|-----------|------------|\n",
    "| $\\alpha$  | Right ascension |\n",
    "| $\\delta$    | Declination |\n",
    "| $\\theta$ | Local sidereal time (LST) | \n",
    "| $\\theta_0$ | LST in Greenwich | \n",
    "| $H$ | Local hour angle | \n",
    "| $\\phi$ | Observer latitude | \n",
    "| $L$ | Observer longitude | \n",
    "| $h$ | Object altitude | \n",
    "| $A$ | Object azimuth | \n",
    "\n",
    "From Meeus' *Astronomical Algorithms* Equation 13.6, \n",
    "\n",
    "$$ \\sin(h) = \\sin(\\phi) \\sin(\\delta) + \\cos(\\phi) \\cos(\\delta) \\cos(H)$$\n",
    "\n",
    "and since \n",
    "\n",
    "$$ H = \\theta - \\alpha = \\theta_0 - L - \\alpha,$$\n",
    "\n",
    "$$ \\sin(h) = \\sin(\\phi) \\sin(\\delta) + \\cos(\\phi) \\cos(\\delta) \\cos(\\theta_0 - L - \\alpha)$$"
   ]
  },
  {
   "cell_type": "code",
   "execution_count": 66,
   "metadata": {
    "collapsed": false
   },
   "outputs": [
    {
     "name": "stdout",
     "output_type": "stream",
     "text": [
      "65d18m22.8725s 21d29m52.6822s\n"
     ]
    },
    {
     "data": {
      "image/png": "[encoded data removed]",
      "text/plain": [
       "<matplotlib.figure.Figure at 0x106d00290>"
      ]
     },
     "metadata": {},
     "output_type": "display_data"
    }
   ],
   "source": [
    "%matplotlib inline\n",
    "from __future__ import (absolute_import, division, print_function,\n",
    "                        unicode_literals)\n",
    "\n",
    "import numpy as np\n",
    "import matplotlib.pyplot as plt\n",
    "import datetime\n",
    "\n",
    "# From astropy\n",
    "import astropy.units as u\n",
    "from astropy.coordinates import Angle, EarthLocation, Latitude, \\\n",
    "                                Longitude, get_sun\n",
    "from astropy.time import Time\n",
    "\n",
    "# IERS table patch from @eteq\n",
    "from astropy.utils.data import download_file\n",
    "from astropy.utils import iers\n",
    "iers.IERS.iers_table = iers.IERS_A.open(download_file(iers.IERS_A_URL, cache=True))\n",
    "\n",
    "# Some convenience functions\n",
    "def get_altitude(location, RA, dec, LST_greenwich):\n",
    "    alt = np.arcsin(np.sin(location.latitude.radian)*np.sin(dec) + \n",
    "                    np.cos(location.latitude.radian)*np.cos(dec) *\n",
    "                    np.cos(LST_greenwich - \n",
    "                           location.longitude.radian - RA.radian))\n",
    "    return alt\n",
    "\n",
    "def daterange(t0, dt, N):\n",
    "    '''\n",
    "    t0 : datetime.datetime\n",
    "        Initial time\n",
    "    dt : float\n",
    "        Number of hours between dates\n",
    "    N : int\n",
    "        Number of datetimes in range\n",
    "    '''\n",
    "    return [t0 + datetime.timedelta(hours=dt*i) for i in range(N)]\n",
    "\n",
    "# Input observer location at Subaru\n",
    "latitude = '+19:49:42.600'\n",
    "longitude = '-155:28:48.900'\n",
    "elevation = 0*u.m\n",
    "location = EarthLocation(lat=latitude, lon=longitude,\n",
    "                         height=elevation)\n",
    "\n",
    "# Set up a range of dates, calculate LST\n",
    "dates = daterange(datetime.datetime(2015,5,29), 1, 24*360)#30*6)\n",
    "times = Time(dates, location=location)\n",
    "LST_greenwich = times.sidereal_time('apparent', 'greenwich').radian\n",
    "\n",
    "# Input fixed object coordinates\n",
    "RA = Longitude(0.1*u.radian)\n",
    "dec = Latitude(0.1*u.radian)\n",
    "\n",
    "alt_star = get_altitude(location, RA, dec, LST_greenwich)\n",
    "\n",
    "sun = get_sun(time)\n",
    "alt_sun = get_altitude(location, sun.ra, sun.dec, LST_greenwich)\n",
    "print(sun.ra, sun.dec)\n",
    "\n",
    "fig, ax = plt.subplots(figsize=(16,8))\n",
    "ax.plot(LST_greenwich, alt_star.to('deg'))\n",
    "ax.plot(LST_greenwich, alt_sun.to('deg'))\n",
    "plt.show()"
   ]
  },
  {
   "cell_type": "code",
   "execution_count": 61,
   "metadata": {
    "collapsed": false
   },
   "outputs": [
    {
     "name": "stdout",
     "output_type": "stream",
     "text": [
      "[ 4.29705484  4.55957099  4.82208715 ...,  5.57390474  5.83642089\n",
      "  6.09893704]\n"
     ]
    }
   ],
   "source": [
    "print(LST_greenwich.radian)"
   ]
  },
  {
   "cell_type": "code",
   "execution_count": 14,
   "metadata": {
    "collapsed": false
   },
   "outputs": [
    {
     "name": "stdout",
     "output_type": "stream",
     "text": [
      "0.346072610732\n"
     ]
    }
   ],
   "source": [
    "print(location.latitude.radian)"
   ]
  },
  {
   "cell_type": "code",
   "execution_count": 6,
   "metadata": {
    "collapsed": false
   },
   "outputs": [
    {
     "data": {
      "image/png": "[encoded data removed]",
      "text/plain": [
       "<matplotlib.figure.Figure at 0x1032df650>"
      ]
     },
     "metadata": {},
     "output_type": "display_data"
    }
   ],
   "source": [
    "lat = 0\n",
    "lon = 0\n",
    "dec = 2\n",
    "RA = 2\n",
    "LST_greenwich = np.linspace(0, 2*np.pi, 100)\n",
    "\n"
   ]
  },
  {
   "cell_type": "code",
   "execution_count": null,
   "metadata": {
    "collapsed": true
   },
   "outputs": [],
   "source": [
    "lat = 0\n",
    "lon = 0\n",
    "dec = 2\n",
    "RA = 2\n",
    "LST_greenwich = np.linspace(0, 2*np.pi, 100)\n",
    "\n",
    "alt = np.arcsin(np.sin(lat)*np.sin(dec) + np.cos(lat)*np.cos(dec)*\n",
    "                np.cos(LST_greenwich - lon - RA))"
   ]
  }
 ],
 "metadata": {
  "kernelspec": {
   "display_name": "Python 2",
   "language": "python",
   "name": "python2"
  },
  "language_info": {
   "codemirror_mode": {
    "name": "ipython",
    "version": 2
   },
   "file_extension": ".py",
   "mimetype": "text/x-python",
   "name": "python",
   "nbconvert_exporter": "python",
   "pygments_lexer": "ipython2",
   "version": "2.7.9"
  }
 },
 "nbformat": 4,
 "nbformat_minor": 0
}
