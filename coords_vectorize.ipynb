{
 "cells": [
  {
   "cell_type": "markdown",
   "metadata": {},
   "source": [
    "# Vectorized `astropy.coordinates.AltAz` Computation \n",
    "\n",
    "Brett Morris, May 12, 2015.\n",
    "\n",
    "The [astropy docs on `SkyCoord`](http://astropy.readthedocs.org/en/latest/coordinates/#getting-started) say: \n",
    "\n",
    "\n",
    "> SkyCoord and all other coordinates objects also support array coordinates. These work the same as single-value coordinates, but they store multiple coordinates in a single object. When you’re going to apply the same operation to many different coordinates (say, from a catalog), this is a better choice than a list of SkyCoord objects, because it will be much faster than applying the operation to each SkyCoord in a for loop.\n",
    "\n",
    "\n",
    "Here's an example demonstrating this, adapted from [astropy docs example for Observation Planning](http://astropy.readthedocs.org/en/latest/coordinates/observing-example.html#example-observation-planning)."
   ]
  },
  {
   "cell_type": "code",
   "execution_count": 43,
   "metadata": {
    "collapsed": false
   },
   "outputs": [
    {
     "name": "stdout",
     "output_type": "stream",
     "text": [
      "M33's Altitude = 0.13 deg\n",
      "For 1 element(s):\n",
      "10 loops, best of 3: 70.3 ms per loop\n",
      "For 10 element(s):\n",
      "10 loops, best of 3: 70.3 ms per loop\n",
      "For 100 element(s):\n",
      "10 loops, best of 3: 98.3 ms per loop\n",
      "For 1000 element(s):\n",
      "1 loops, best of 3: 342 ms per loop\n",
      "For 10000 element(s):\n",
      "1 loops, best of 3: 2.8 s per loop\n"
     ]
    }
   ],
   "source": [
    "import numpy as np\n",
    "from astropy import units as u\n",
    "from astropy.time import Time\n",
    "from astropy.coordinates import SkyCoord, EarthLocation, AltAz\n",
    "\n",
    "# Resolve coordinates\n",
    "m33 = SkyCoord.from_name('M33')\n",
    "\n",
    "# Set up Earth observer\n",
    "bear_mountain = EarthLocation(lat=41.3*u.deg, lon=-74*u.deg, height=390*u.m)\n",
    "\n",
    "# Set time of observation\n",
    "utcoffset = -4*u.hour  # Eastern Daylight Time\n",
    "time = Time('2012-7-12 23:00:00') - utcoffset\n",
    "\n",
    "# Compute alt/az from RA+Dec+time+location\n",
    "m33altaz = m33.transform_to(AltAz(obstime=time, location=bear_mountain))  \n",
    "print(\"M33's Altitude = {0.alt:.2}\".format(m33altaz))\n",
    "\n",
    "midnight = Time('2012-7-13 00:00:00') - utcoffset\n",
    "\n",
    "Nelements = 10**np.arange(5)\n",
    "times = np.zeros(len(Nelements))\n",
    "for i, N in enumerate(Nelements):\n",
    "    delta_midnight = np.linspace(-2, 7, N)*u.hour\n",
    "    print('For {0} element(s):'.format(N))\n",
    "    \n",
    "    # Use the iPython %timeit magic to measure best computation time\n",
    "    # for each number of elements (can't use line break in magic func)\n",
    "    t = %timeit -o m33.transform_to(AltAz(obstime=midnight+delta_midnight,location=bear_mountain))\n",
    "    times[i] = t.best"
   ]
  },
  {
   "cell_type": "code",
   "execution_count": 47,
   "metadata": {
    "collapsed": false
   },
   "outputs": [
    {
     "data": {
      "image/png": "[encoded data removed]",
      "text/plain": [
       "<matplotlib.figure.Figure at 0x10c47bdd0>"
      ]
     },
     "metadata": {},
     "output_type": "display_data"
    }
   ],
   "source": [
    "%matplotlib inline\n",
    "\n",
    "import matplotlib.pyplot as plt\n",
    "plt.loglog(Nelements, times)\n",
    "plt.xlabel('# elements')\n",
    "plt.ylabel('Time per loop [s]')\n",
    "plt.show()"
   ]
  },
  {
   "cell_type": "markdown",
   "metadata": {},
   "source": [
    "**Fig**: The runtime scales faster than linearly with the number of elements, so seems to be vectorized."
   ]
  },
  {
   "cell_type": "code",
   "execution_count": null,
   "metadata": {
    "collapsed": true
   },
   "outputs": [],
   "source": []
  }
 ],
 "metadata": {
  "kernelspec": {
   "display_name": "Python 2",
   "language": "python",
   "name": "python2"
  },
  "language_info": {
   "codemirror_mode": {
    "name": "ipython",
    "version": 2
   },
   "file_extension": ".py",
   "mimetype": "text/x-python",
   "name": "python",
   "nbconvert_exporter": "python",
   "pygments_lexer": "ipython2",
   "version": "2.7.9"
  }
 },
 "nbformat": 4,
 "nbformat_minor": 0
}
