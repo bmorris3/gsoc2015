{
 "cells": [
  {
   "cell_type": "markdown",
   "metadata": {},
   "source": [
    "# Time zones \n",
    "🌐!"
   ]
  },
  {
   "cell_type": "code",
   "execution_count": 33,
   "metadata": {
    "collapsed": false
   },
   "outputs": [
    {
     "name": "stdout",
     "output_type": "stream",
     "text": [
      "US/Pacific\n",
      "Localized datetime 2015-07-07 21:13:09.191092-07:00 \n",
      " = astropy time 2015-07-08 04:13:09.191092\n",
      "<type 'datetime.datetime'>, <class 'astropy.time.core.Time'>\n"
     ]
    }
   ],
   "source": [
    "from __future__ import (absolute_import, division, print_function,\n",
    "                        unicode_literals)\n",
    "\n",
    "import datetime\n",
    "from astropy.time import Time\n",
    "import pytz\n",
    "\n",
    "timezone = pytz.timezone('US/Pacific')\n",
    "print(timezone)\n",
    "\n",
    "def astropy_time_to_local(timezone, time):\n",
    "    '''\n",
    "    Localize ``time`` to the ``timezone``.\n",
    "    '''\n",
    "    if not isinstance(time, Time):\n",
    "        time = Time(time)\n",
    "\n",
    "    return timezone.localize(time.datetime)\n",
    "\n",
    "def local_to_astropy_time(local_time):\n",
    "    '''\n",
    "    Convert localized time ``local_time`` to astropy Time object in UTC\n",
    "    '''\n",
    "    return Time(local_time)\n",
    "\n",
    "# Present time in UTC\n",
    "utc_now = datetime.datetime.utcnow()\n",
    "\n",
    "# Localize to my local time in Pacific timezone\n",
    "lt = astropy_time_to_local(timezone, utc_now)\n",
    "\n",
    "# Convert back to UTC in astropy time object\n",
    "UTC = local_to_astropy_time(lt)\n",
    "\n",
    "print('Localized datetime {} \\n = astropy time {}'.format(lt, UTC))\n",
    "print('{}, {}'.format(*map(type, [lt, UTC])))"
   ]
  },
  {
   "cell_type": "code",
   "execution_count": null,
   "metadata": {
    "collapsed": true
   },
   "outputs": [],
   "source": []
  }
 ],
 "metadata": {
  "kernelspec": {
   "display_name": "Python 2",
   "language": "python",
   "name": "python2"
  },
  "language_info": {
   "codemirror_mode": {
    "name": "ipython",
    "version": 2
   },
   "file_extension": ".py",
   "mimetype": "text/x-python",
   "name": "python",
   "nbconvert_exporter": "python",
   "pygments_lexer": "ipython2",
   "version": "2.7.10"
  }
 },
 "nbformat": 4,
 "nbformat_minor": 0
}
