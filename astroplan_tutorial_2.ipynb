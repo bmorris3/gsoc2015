{
 "cells": [
  {
   "cell_type": "markdown",
   "metadata": {},
   "source": [
    "# `astroplan` Examples\n",
    "\n",
    "## Can I observe this target tonight at Keck?"
   ]
  },
  {
   "cell_type": "code",
   "execution_count": 34,
   "metadata": {
    "collapsed": false
   },
   "outputs": [
    {
     "name": "stdout",
     "output_type": "stream",
     "text": [
      "Vega is visible at time 2016-07-21 10:00:00.000 for an observer at (lon, lat, elevation) =\n",
      "((<Longitude -155.47833333333332 deg>, <Latitude 19.828333333333326 deg>, <Quantity 4160.000000000752 m>))\n"
     ]
    }
   ],
   "source": [
    "from astroplan import Observer, FixedTarget, get_site\n",
    "from astroplan.plots import plot_airmass\n",
    "\n",
    "from astropy.time import Time\n",
    "import astropy.units as u\n",
    "from astropy.coordinates import EarthLocation\n",
    "\n",
    "# Use the name resolver from astropy's SkyCoord to create \n",
    "# a new target to observe tonight\n",
    "target = FixedTarget.from_name('Vega')\n",
    "\n",
    "# Choose the time to observe\n",
    "time = Time('2016-07-21 10:00:00')\n",
    "\n",
    "# Set the location of the observatory two equivalent ways: \n",
    "# (1) using `astropy.coordinates.EarthLocation`\n",
    "longitude, latitude, elevation = -155.4783*u.deg, 19.8283*u.deg, 4160*u.m\n",
    "location = EarthLocation.from_geodetic(longitude, latitude, elevation)\n",
    "\n",
    "# (2) or using astroplan's `get_site` function\n",
    "location = get_site('Keck')\n",
    "\n",
    "# Initialize an Observer object at that location\n",
    "timezone = 'US/Hawaii'  # Set for timezone-aware time manipulations\n",
    "keck = Observer(location=location, timezone=timezone)\n",
    "\n",
    "# Can this target be seen by the telescopes, i.e., above ~30 degrees elevation?\n",
    "horizon = 30*u.deg\n",
    "target_is_visible = keck.can_see(time, target, horizon=horizon)\n",
    "\n",
    "# Print result in a full sentence:\n",
    "verb = \"is\" if target_is_visible else \"is not\"\n",
    "print((\"{target} {is_or_isnt} visible at time {time} for an observer \"\n",
    "       \"at (lon, lat, elevation) =\\n({location})\").format(target=target.name, \n",
    "                                                          is_or_isnt=verb, \n",
    "                                                          time=time, \n",
    "                                                          location=location.to_geodetic()))"
   ]
  },
  {
   "cell_type": "code",
   "execution_count": 33,
   "metadata": {
    "collapsed": false
   },
   "outputs": [
    {
     "name": "stdout",
     "output_type": "stream",
     "text": [
      "2016-07-21 10:00:00.000 [UTC] is equivalent to local US/Hawaii time: 2016-07-21 00:00:00-10:00\n"
     ]
    }
   ],
   "source": [
    "# What time is the previously printed UTC time in local time?\n",
    "local_time = keck.astropy_time_to_datetime(time)\n",
    "print(\"{} [UTC] is equivalent to local {} time: {}\".format(time, \n",
    "                                                             timezone, \n",
    "                                                             local_time))"
   ]
  },
  {
   "cell_type": "code",
   "execution_count": 42,
   "metadata": {
    "collapsed": false
   },
   "outputs": [
    {
     "name": "stdout",
     "output_type": "stream",
     "text": [
      "Vega rises: 2016-07-21 01:54:55.648\n",
      "Vega sets: 2016-07-21 16:07:26.516\n"
     ]
    }
   ],
   "source": [
    "# When did the target rise, when will it set? \n",
    "rise_time = keck.calc_rise(time, target, which='previous')\n",
    "set_time = keck.calc_set(time, target, which='next')\n",
    "print((\"{name} rises: {rises}\\n{name} sets: \"\n",
    "       \"{sets}\").format(name=target.name, \n",
    "                        rises=rise_time.iso, \n",
    "                        sets=set_time.iso))"
   ]
  },
  {
   "cell_type": "code",
   "execution_count": 62,
   "metadata": {
    "collapsed": false
   },
   "outputs": [
    {
     "data": {
      "image/png": "[encoded data removed]",
      "text/plain": [
       "<matplotlib.figure.Figure at 0x10fbc5150>"
      ]
     },
     "metadata": {},
     "output_type": "display_data"
    }
   ],
   "source": [
    "# Plot the airmass during the night:\n",
    "%matplotlib inline\n",
    "import matplotlib.pyplot as plt\n",
    "import seaborn; seaborn.set_style('darkgrid')\n",
    "\n",
    "ax = plot_airmass(target, keck, time)\n",
    "ax.set(title=target.name,\n",
    "       xlim=[rise_time.plot_date, set_time.plot_date])\n",
    "plt.show()"
   ]
  },
  {
   "cell_type": "code",
   "execution_count": null,
   "metadata": {
    "collapsed": true
   },
   "outputs": [],
   "source": []
  }
 ],
 "metadata": {
  "kernelspec": {
   "display_name": "Python 2",
   "language": "python",
   "name": "python2"
  },
  "language_info": {
   "codemirror_mode": {
    "name": "ipython",
    "version": 2
   },
   "file_extension": ".py",
   "mimetype": "text/x-python",
   "name": "python",
   "nbconvert_exporter": "python",
   "pygments_lexer": "ipython2",
   "version": "2.7.10"
  }
 },
 "nbformat": 4,
 "nbformat_minor": 0
}
