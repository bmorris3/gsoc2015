{
 "cells": [
  {
   "cell_type": "markdown",
   "metadata": {},
   "source": [
    "### Sanity check:\n",
    "\n",
    "For a grid of observatories at different positions on Earth, and for a list of targets near both celestial poles and near the celestial aquator, verify which targets will rise and set. "
   ]
  },
  {
   "cell_type": "code",
   "execution_count": 12,
   "metadata": {
    "collapsed": false
   },
   "outputs": [],
   "source": [
    "%matplotlib inline\n",
    "from __future__ import (absolute_import, division, print_function,\n",
    "                        unicode_literals)\n",
    "\n",
    "from astropy.coordinates import (get_sun, EarthLocation, Latitude, \n",
    "                                 Longitude, SkyCoord)\n",
    "import astropy.units as u\n",
    "from astropy.time import Time\n",
    "import numpy as np\n",
    "import matplotlib.pyplot as plt\n",
    "import astroplan\n",
    "reload(astroplan)\n",
    "from astroplan import Observer, FixedTarget\n",
    "\n",
    "observers = []\n",
    "N_observers = 8\n",
    "longitudes = np.linspace(0, 360, 8)\n",
    "latitudes = np.linspace(-85, 85, 8)\n",
    "time = Time('2000-06-21 00:00:00')\n",
    "\n",
    "for longitude, latitude in zip(longitudes, latitudes):\n",
    "    observers.append(Observer(location=EarthLocation.from_geodetic(longitude,\n",
    "                                                                   latitude, 0)))\n",
    "# Targets chosen to span a broad range of RA and Dec, in both hemispheres\n",
    "# In order from highest to lowest dec\n",
    "target_names = ['Polaris', 'eta Vir', 'tet Aql', 'tau Oct']\n",
    "targets = [FixedTarget.from_name(name) for name in target_names]"
   ]
  },
  {
   "cell_type": "code",
   "execution_count": 13,
   "metadata": {
    "collapsed": false
   },
   "outputs": [],
   "source": [
    "rise_times = np.zeros((len(observers), len(targets)))\n",
    "set_times = np.zeros((len(observers), len(targets)))\n",
    "transit_times = np.zeros((len(observers), len(targets)))\n",
    "\n",
    "for i, obs in enumerate(observers):\n",
    "    for j, target in enumerate(targets):\n",
    "        try:\n",
    "            rise_times[i, j] = obs.calc_rise(time, target).jd\n",
    "        except ValueError:\n",
    "            pass\n",
    "        try:\n",
    "            transit_times[i, j] = obs.calc_transit(time, target).jd\n",
    "        except ValueError:\n",
    "            pass\n",
    "        try:\n",
    "            set_times[i, j] = obs.calc_set(time, target).jd\n",
    "        except ValueError:\n",
    "            pass"
   ]
  },
  {
   "cell_type": "code",
   "execution_count": 14,
   "metadata": {
    "collapsed": false
   },
   "outputs": [
    {
     "name": "stdout",
     "output_type": "stream",
     "text": [
      "Does the target rise?\n",
      "(Lon, Lat)\tPolaris\t\teta Vir\t\ttet Aql\t\ttau Oct\n",
      "-------\t\t-------\t\t-------\t\t-------\t\t-------\t\t\n",
      "(0.0, -85.0)\tFalse\t\tTrue\t\tTrue\t\tFalse\n",
      "(51.4, -60.7)\tFalse\t\tTrue\t\tTrue\t\tFalse\n",
      "(102.9, -36.4)\tFalse\t\tTrue\t\tTrue\t\tFalse\n",
      "(154.3, -12.1)\tFalse\t\tTrue\t\tTrue\t\tFalse\n",
      "(205.7, 12.1)\tFalse\t\tTrue\t\tTrue\t\tFalse\n",
      "(257.1, 36.4)\tFalse\t\tTrue\t\tTrue\t\tFalse\n",
      "(308.6, 60.7)\tFalse\t\tTrue\t\tTrue\t\tFalse\n",
      "(360.0, 85.0)\tFalse\t\tTrue\t\tTrue\t\tFalse\n",
      "\n",
      "Does the target set?\n",
      "(Lon, Lat)\tPolaris\t\teta Vir\t\ttet Aql\t\ttau Oct\n",
      "-------\t\t-------\t\t-------\t\t-------\t\t-------\t\t\n",
      "(0.0, -85.0)\tFalse\t\tTrue\t\tTrue\t\tFalse\n",
      "(51.4, -60.7)\tFalse\t\tTrue\t\tTrue\t\tFalse\n",
      "(102.9, -36.4)\tFalse\t\tTrue\t\tTrue\t\tFalse\n",
      "(154.3, -12.1)\tFalse\t\tTrue\t\tTrue\t\tFalse\n",
      "(205.7, 12.1)\tFalse\t\tTrue\t\tTrue\t\tFalse\n",
      "(257.1, 36.4)\tFalse\t\tTrue\t\tTrue\t\tFalse\n",
      "(308.6, 60.7)\tFalse\t\tTrue\t\tTrue\t\tFalse\n",
      "(360.0, 85.0)\tFalse\t\tTrue\t\tTrue\t\tFalse\n",
      "\n",
      "Does the target transit?\n",
      "(Lon, Lat)\tPolaris\t\teta Vir\t\ttet Aql\t\ttau Oct\n",
      "-------\t\t-------\t\t-------\t\t-------\t\t-------\t\t\n",
      "(0.0, -85.0)\tTrue\t\tTrue\t\tTrue\t\tTrue\n",
      "(51.4, -60.7)\tTrue\t\tTrue\t\tTrue\t\tTrue\n",
      "(102.9, -36.4)\tTrue\t\tTrue\t\tTrue\t\tTrue\n",
      "(154.3, -12.1)\tTrue\t\tTrue\t\tTrue\t\tTrue\n",
      "(205.7, 12.1)\tTrue\t\tTrue\t\tTrue\t\tTrue\n",
      "(257.1, 36.4)\tTrue\t\tTrue\t\tTrue\t\tTrue\n",
      "(308.6, 60.7)\tTrue\t\tTrue\t\tTrue\t\tTrue\n",
      "(360.0, 85.0)\tTrue\t\tTrue\t\tTrue\t\tTrue\n"
     ]
    }
   ],
   "source": [
    "def printtable(matrix, header=''):\n",
    "    print(header)\n",
    "    print('(Lon, Lat)\\t'+'\\t\\t'.join(target_names))\n",
    "    print(5*'-------\\t\\t')\n",
    "    for i, longitude, latitude in zip(range(len(longitudes)), longitudes, latitudes):\n",
    "        print('({:.1f}, {:.1f})\\t{}'.format(longitude, latitude, \n",
    "                                             '\\t\\t'.join(map(str, matrix[i,:]))))\n",
    "printtable(rise_times != 0, 'Does the target rise?')\n",
    "printtable(set_times != 0, '\\nDoes the target set?')\n",
    "printtable(transit_times != 0, '\\nDoes the target transit?')"
   ]
  },
  {
   "cell_type": "code",
   "execution_count": null,
   "metadata": {
    "collapsed": true
   },
   "outputs": [],
   "source": []
  }
 ],
 "metadata": {
  "kernelspec": {
   "display_name": "Python 2",
   "language": "python",
   "name": "python2"
  },
  "language_info": {
   "codemirror_mode": {
    "name": "ipython",
    "version": 2
   },
   "file_extension": ".py",
   "mimetype": "text/x-python",
   "name": "python",
   "nbconvert_exporter": "python",
   "pygments_lexer": "ipython2",
   "version": "2.7.10"
  }
 },
 "nbformat": 4,
 "nbformat_minor": 0
}
