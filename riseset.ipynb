{
 "cells": [
  {
   "cell_type": "markdown",
   "metadata": {},
   "source": [
    "# Calculating rise/set times with astropy"
   ]
  },
  {
   "cell_type": "code",
   "execution_count": 133,
   "metadata": {
    "collapsed": false
   },
   "outputs": [
    {
     "name": "stdout",
     "output_type": "stream",
     "text": [
      "previous sunrise: 2015-05-28 15:45:35.135135\n",
      "previous sunset: 2015-05-28 04:52:15.135135\n",
      "next sunrise: 2015-05-29 15:46:09.369369\n",
      "next sunset: 2015-05-29 04:52:49.369369\n"
     ]
    }
   ],
   "source": [
    "%matplotlib inline\n",
    "from __future__ import (absolute_import, division, print_function,\n",
    "                        unicode_literals)\n",
    "import numpy as np\n",
    "import matplotlib.pyplot as plt\n",
    "import datetime\n",
    "import astropy.units as u\n",
    "from astropy.coordinates import EarthLocation, Latitude, \\\n",
    "                                Longitude, get_sun\n",
    "from astropy.time import Time\n",
    "from astropy.coordinates import AltAz\n",
    "\n",
    "##################################################\n",
    "# IERS table patch from @eteq ####################\n",
    "from astropy.utils.data import download_file\n",
    "from astropy.utils import iers\n",
    "iers.IERS.iers_table = iers.IERS_A.open(download_file(iers.IERS_A_URL, \n",
    "                                                      cache=True))\n",
    "##################################################\n",
    "\n",
    "# Some convenience functions\n",
    "\n",
    "def get_altitude(target, time, location, kwargs=None):\n",
    "    '''\n",
    "    Compute altitude of a `target` at a particular time, given\n",
    "     an observer's `location` (EarthLocation).\n",
    "    '''\n",
    "    if kwargs is None:\n",
    "        kwargs = {}\n",
    "    altaz = target.transform_to(AltAz(target.ra, target.dec, \n",
    "                                location=location, obstime=time,\n",
    "                                **kwargs))\n",
    "    return altaz.alt\n",
    "\n",
    "def timebracket(t0, dt, N):\n",
    "    '''\n",
    "    Generate `N` times bracketing `t0` going\n",
    "    backwards and forwards `dt` hours\n",
    "    \n",
    "    t0 : datetime.datetime\n",
    "        Initial time\n",
    "    dt : float\n",
    "        Number of hours before and after t0\n",
    "    N : int\n",
    "        Number of datetimes in range\n",
    "    '''\n",
    "    previous_dt = [t0 + datetime.timedelta(hours=i) \n",
    "            for i in np.linspace(-dt, 0, N)]\n",
    "    next_dt = [t0 + datetime.timedelta(hours=i) \n",
    "            for i in np.linspace(0, dt, N)]\n",
    "    return previous_dt, next_dt\n",
    "\n",
    "def zero_cross_ba(t, a, unit=u.degree):\n",
    "    '''\n",
    "    Find time `t` when values in array `a` go from\n",
    "    negative to positive (exclude endpoints)\n",
    "    '''\n",
    "    condition = (a[:-1] < 0*unit) * (a[1:] > 0*unit)\n",
    "    if sum(condition) < 1:\n",
    "        return []\n",
    "    return t[condition]\n",
    "\n",
    "def zero_cross_ab(t, a, unit=u.degree):\n",
    "    '''\n",
    "    Find time `t` when values in array `a` go from\n",
    "    positive to negative (exclude endpoints)\n",
    "    '''\n",
    "    condition = (a[:-1] > 0*unit) * (a[1:] < 0*unit)\n",
    "    if sum(condition) < 1:\n",
    "        return []\n",
    "    return t[condition]\n",
    "\n",
    "# Input observer location at Subaru\n",
    "latitude = '19:49:42.600'\n",
    "longitude = '-155:28:48.900'\n",
    "elevation = 0*u.m\n",
    "location = EarthLocation(lat=latitude, lon=longitude,\n",
    "                         height=elevation)\n",
    "\n",
    "# Set up a range of dates forwards and backwards from test time\n",
    "time = datetime.datetime(2015,5,29)\n",
    "previous_dates, next_dates = timebracket(time, 24.5, 1000)\n",
    "previous_times = Time(previous_dates, location=location)\n",
    "next_times = Time(next_dates, location=location)\n",
    "\n",
    "# Calculate sun's RA/Dec at earlier, later times\n",
    "previous_sun = get_sun(Time(previous_times, location=location))\n",
    "next_sun = get_sun(Time(next_times, location=location))\n",
    "\n",
    "# Calculate the altitude of the sun\n",
    "altkwargs = {'pressure' : 1*u.bar, 'temperature' : 0*u.deg_C}\n",
    "previous_alt_sun = get_altitude(previous_sun, previous_times, \n",
    "                                location, kwargs=altkwargs)\n",
    "next_alt_sun = get_altitude(next_sun, next_times, \n",
    "                            location, kwargs=altkwargs)\n",
    "\n",
    "# Use time of horizon-crossing to compute sunrise/sunset times\n",
    "print(\"previous sunrise:\",zero_cross_ba(previous_times, previous_alt_sun)[0])\n",
    "print(\"previous sunset:\",zero_cross_ab(previous_times, previous_alt_sun)[0])\n",
    "print(\"next sunrise:\",zero_cross_ba(next_times, next_alt_sun)[0])\n",
    "print(\"next sunset:\",zero_cross_ab(next_times, next_alt_sun)[0])"
   ]
  },
  {
   "cell_type": "markdown",
   "metadata": {},
   "source": [
    "### Compare to PyEphem"
   ]
  },
  {
   "cell_type": "code",
   "execution_count": 129,
   "metadata": {
    "collapsed": false
   },
   "outputs": [
    {
     "name": "stdout",
     "output_type": "stream",
     "text": [
      "previous sunrise: 2015/5/28 15:44:00\n",
      "previous sunset: 2015/5/28 04:54:10\n",
      "next sunrise: 2015/5/29 15:43:52\n",
      "next sunset: 2015/5/29 04:54:34\n"
     ]
    }
   ],
   "source": [
    "import ephem\n",
    "sun = ephem.Sun()\n",
    "obs = ephem.Observer()\n",
    "obs.lat = latitude\n",
    "obs.lon = longitude\n",
    "obs.date = time\n",
    "obs.pressure = 1e3 # Turn on/off pressure/refraction\n",
    "sun.compute(obs)\n",
    "print(\"previous sunrise:\", obs.previous_rising(sun, use_center=True))\n",
    "print(\"previous sunset:\", obs.previous_setting(sun, use_center=True))\n",
    "print(\"next sunrise:\", obs.next_rising(sun, use_center=True))\n",
    "print(\"next sunset:\", obs.next_setting(sun, use_center=True))"
   ]
  },
  {
   "cell_type": "markdown",
   "metadata": {},
   "source": [
    "### Results\n",
    "\n",
    "The $N$ parameter in `timebracket()` controls the density of time points tested for rise/set, and should therefore control the precision of the rise/set times. \n",
    "\n",
    "I'm unsure how PyEphem handles precession/nutation, which [Brandon Rhodes says uses IAU 1980 conventions](https://twitter.com/brandon_rhodes/status/605044030406303744), so I'm unsure how close the numbers should be. \n",
    "\n",
    "Also note: I'm calculating for an atmosphere *with refraction*, and these calculations are for sunrise/sunset as defined by when the solar centroid crosses the horizon, not the crossing of the nearest limb. This may account for part of the the differences from the [USNO](http://aa.usno.navy.mil/data/docs/RS_OneDay.php).\n",
    "\n",
    "| Event | astropy $N = 1000$| astropy $N=3000$ | PyEphem | USNO |\n",
    "|-------|-------------------|------------------|---------|------|\n",
    "|previous sunrise| 15:45:35 | 15:45:54 | 15:44:00 | [15:43](http://aa.usno.navy.mil/rstt/onedaytable?form=2&ID=AA&year=2015&month=5&day=28&place=Subaru&lon_sign=-1&lon_deg=155&lon_min=29&lat_sign=1&lat_deg=19&lat_min=50&tz=&tz_sign=-1) |\n",
    "|previous sunset| 04:52:15 | 04:53:01 | 04:54:10 | [04:55](http://aa.usno.navy.mil/rstt/onedaytable?form=2&ID=AA&year=2015&month=5&day=28&place=Subaru&lon_sign=-1&lon_deg=155&lon_min=29&lat_sign=1&lat_deg=19&lat_min=50&tz=&tz_sign=-1) |\n",
    "|next sunrise| 15:46:09 | 15:46:59 | 15:43:52 | [15:43](http://aa.usno.navy.mil/rstt/onedaytable?form=2&ID=AA&year=2015&month=5&day=29&place=Subaru&lon_sign=-1&lon_deg=155&lon_min=29&lat_sign=1&lat_deg=19&lat_min=50&tz=&tz_sign=-1) |\n",
    "|next sunset| 04:52:49 | 04:52:37 | 04:54:34 | [04:56](http://aa.usno.navy.mil/rstt/onedaytable?form=2&ID=AA&year=2015&month=5&day=29&place=Subaru&lon_sign=-1&lon_deg=155&lon_min=29&lat_sign=1&lat_deg=19&lat_min=50&tz=&tz_sign=-1) |"
   ]
  },
  {
   "cell_type": "code",
   "execution_count": 132,
   "metadata": {
    "collapsed": false
   },
   "outputs": [
    {
     "data": {
      "image/png": "[encoded data removed]",
      "text/plain": [
       "<matplotlib.figure.Figure at 0x10c507ad0>"
      ]
     },
     "metadata": {},
     "output_type": "display_data"
    }
   ],
   "source": [
    "# Compare with vs without atmosphere: \n",
    "\n",
    "previous_alt_sun_noatm = get_altitude(previous_sun, previous_times, location)\n",
    "plt.plot_date(previous_times.plot_date, \n",
    "             (previous_alt_sun-previous_alt_sun_noatm).to('degree'), '-')\n",
    "ax = plt.gca()\n",
    "ax.set(xlabel='Time', ylabel='Difference [deg]')\n",
    "plt.show()"
   ]
  },
  {
   "cell_type": "code",
   "execution_count": null,
   "metadata": {
    "collapsed": true
   },
   "outputs": [],
   "source": []
  }
 ],
 "metadata": {
  "kernelspec": {
   "display_name": "Python 2",
   "language": "python",
   "name": "python2"
  },
  "language_info": {
   "codemirror_mode": {
    "name": "ipython",
    "version": 2
   },
   "file_extension": ".py",
   "mimetype": "text/x-python",
   "name": "python",
   "nbconvert_exporter": "python",
   "pygments_lexer": "ipython2",
   "version": "2.7.10"
  }
 },
 "nbformat": 4,
 "nbformat_minor": 0
}
