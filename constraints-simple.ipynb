{
 "cells": [
  {
   "cell_type": "code",
   "execution_count": 17,
   "metadata": {
    "collapsed": false
   },
   "outputs": [],
   "source": [
    "from __future__ import (absolute_import, division, print_function,\n",
    "                        unicode_literals)\n",
    "\n",
    "from astroplan import Observer\n",
    "from astropy.coordinates import get_sun, SkyCoord\n",
    "from astropy.time import Time\n",
    "import astropy.units as u\n",
    "import numpy as np\n",
    "import matplotlib.pyplot as plt\n",
    "\n",
    "apo = Observer.at_site(\"APO\")\n",
    "target = SkyCoord.from_name('Vega')\n",
    "start_time = Time.now()\n",
    "end_time = start_time + 3*u.day"
   ]
  },
  {
   "cell_type": "code",
   "execution_count": 13,
   "metadata": {
    "collapsed": false
   },
   "outputs": [],
   "source": [
    "step_hours = 0.5*u.hour\n",
    "step_days = step_hours.to(u.day).value\n",
    "times = Time(np.arange(start_time.jd, end_time.jd+step_days, step_days), \n",
    "             format='jd')\n",
    "sun_altaz = apo.altaz(times, get_sun(times))\n",
    "target_altaz = apo.altaz(times, target)\n",
    "\n",
    "# condition: sun is below horizon=-6 deg\n",
    "sun_is_set = sun_altaz.alt < -6*u.deg\n",
    "\n",
    "# condition: target is above horizon=0 deg\n",
    "target_is_up = target_altaz.alt > 0*u.deg\n",
    "\n",
    "# condition: target has airmass <2\n",
    "target_at_good_airmass = target_altaz.secz < 2\n",
    "\n",
    "# condition: moon is separated by >20 deg\n",
    "# This will fail until v1.0.4\n",
    "#moon_is_far = [i.separation(target) > 20*u.deg for i in get_moon(times, location=apo.location)]"
   ]
  },
  {
   "cell_type": "code",
   "execution_count": 19,
   "metadata": {
    "collapsed": false
   },
   "outputs": [
    {
     "name": "stdout",
     "output_type": "stream",
     "text": [
      "[  9  10  11  12  13  14  15  16  17  18  19  20  21  22  57  58  59  60\n",
      "  61  62  63  64  65  66  67  68  69  70 104 105 106 107 108 109 110 111\n",
      " 112 113 114 115 116 117]\n"
     ]
    },
    {
     "data": {
      "image/png": "[encoded data removed]",
      "text/plain": [
       "<matplotlib.figure.Figure at 0x107805710>"
      ]
     },
     "metadata": {},
     "output_type": "display_data"
    }
   ],
   "source": [
    "%matplotlib inline\n",
    "conditions = [sun_is_set, target_is_up, target_at_good_airmass]\n",
    "def passing_indices(conditions):\n",
    "    \"\"\"\n",
    "    Boolean AND each element of ``conditions`` with each other\n",
    "    \"\"\"\n",
    "    return np.argwhere(reduce(lambda x, y: x*y, conditions)).T[0]\n",
    "inds = passing_indices(conditions)\n",
    "print(inds)\n",
    "\n",
    "plt.plot_date(times.plot_date[inds], target_altaz.alt[inds])\n",
    "plt.show()"
   ]
  },
  {
   "cell_type": "code",
   "execution_count": null,
   "metadata": {
    "collapsed": true
   },
   "outputs": [],
   "source": []
  }
 ],
 "metadata": {
  "kernelspec": {
   "display_name": "Python 2",
   "language": "python",
   "name": "python2"
  },
  "language_info": {
   "codemirror_mode": {
    "name": "ipython",
    "version": 2
   },
   "file_extension": ".py",
   "mimetype": "text/x-python",
   "name": "python",
   "nbconvert_exporter": "python",
   "pygments_lexer": "ipython2",
   "version": "2.7.10"
  }
 },
 "nbformat": 4,
 "nbformat_minor": 0
}
