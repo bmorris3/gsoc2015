{
 "cells": [
  {
   "cell_type": "markdown",
   "metadata": {},
   "source": [
    "## Quick astroplan tutorial\n",
    "\n",
    "Find rise/set times of the sun and Vega for an observer at Keck Observatory."
   ]
  },
  {
   "cell_type": "code",
   "execution_count": 2,
   "metadata": {
    "collapsed": false
   },
   "outputs": [
    {
     "name": "stdout",
     "output_type": "stream",
     "text": [
      "Vega rises: 2015-07-09 05:24:22.732 [ISO] = 2457212.72526 [JD]\n",
      "Previous sunset: 2015-07-08 05:02:09.435\n",
      "Next sunrise: 2015-07-09 15:53:53.525\n",
      "Is Vega up?: True\n"
     ]
    }
   ],
   "source": [
    "import sys\n",
    "sys.path.insert(0, '/Users/bmorris/git/astroplan')\n",
    "\n",
    "from astropy.coordinates import EarthLocation\n",
    "from astropy.time import Time\n",
    "from astroplan import Observer, FixedTarget\n",
    "import astropy.units as u\n",
    "\n",
    "# Initialize Observer object at the location of Keck\n",
    "keck = EarthLocation.from_geodetic('204d31m18s', '19d49m42s', 0)\n",
    "obs = Observer(location=keck, timezone='US/Hawaii')\n",
    "\n",
    "# Initialize FixedTarget object for Vega using from_name\n",
    "vega = FixedTarget.from_name('Vega')\n",
    "\n",
    "# Pick the time of our observations in UTC\n",
    "time = Time('2015-07-09 03:00:00')\n",
    "\n",
    "# Calculate the time Vega rises above 30 degress: \n",
    "next_rise_vega = obs.calc_rise(time, vega, horizon=30*u.deg)\n",
    "print('Vega rises: {0} [ISO] = {1} [JD]'.format(next_rise_vega.iso, next_rise_vega.jd))\n",
    "\n",
    "# Calculate time of sunrise, sunset\n",
    "previous_sunset = obs.sunset(time, which='previous')\n",
    "next_sunrise = obs.sunrise(time, which='next')\n",
    "print('Previous sunset: {}'.format(previous_sunset.iso))\n",
    "print('Next sunrise: {}'.format(next_sunrise.iso))\n",
    "\n",
    "# Is Vega up at the present time?\n",
    "vega_visible = obs.can_see(time, vega)\n",
    "print('Is Vega up?: {}'.format(vega_visible))"
   ]
  },
  {
   "cell_type": "code",
   "execution_count": 3,
   "metadata": {
    "collapsed": false
   },
   "outputs": [
    {
     "name": "stdout",
     "output_type": "stream",
     "text": [
      "Vega's next transit: 2015-07-09 09:51:18.800\n",
      "Astronomical sunset: 2015-07-08 06:29:05.259\n",
      "Astronomical sunrise: 2015-07-09 14:27:05.156\n",
      "Midnight: 2015-07-09 10:27:59.015\n"
     ]
    }
   ],
   "source": [
    "# When will Vega next transit the meridian?\n",
    "next_transit = obs.calc_meridian_transit(time, vega, which='next')\n",
    "print(\"Vega's next transit: {}\".format(next_transit.iso))\n",
    "\n",
    "# Sunrise/sunset at astronomical twilight, nearest midnight:\n",
    "set_astro = obs.evening_astronomical(time, which='previous')\n",
    "rise_astro = obs.morning_astronomical(time, which='next')\n",
    "midnight = obs.midnight(time)\n",
    "print('Astronomical sunset: {}'.format(set_astro.iso))\n",
    "print('Astronomical sunrise: {}'.format(rise_astro.iso))\n",
    "print('Midnight: {}'.format(midnight.iso))"
   ]
  },
  {
   "cell_type": "code",
   "execution_count": null,
   "metadata": {
    "collapsed": true
   },
   "outputs": [],
   "source": []
  }
 ],
 "metadata": {
  "kernelspec": {
   "display_name": "Python 2",
   "language": "python",
   "name": "python2"
  },
  "language_info": {
   "codemirror_mode": {
    "name": "ipython",
    "version": 2
   },
   "file_extension": ".py",
   "mimetype": "text/x-python",
   "name": "python",
   "nbconvert_exporter": "python",
   "pygments_lexer": "ipython2",
   "version": "2.7.10"
  }
 },
 "nbformat": 4,
 "nbformat_minor": 0
}
