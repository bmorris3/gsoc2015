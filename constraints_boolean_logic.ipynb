{
 "cells": [
  {
   "cell_type": "markdown",
   "metadata": {},
   "source": [
    "# `astroplan` demo: boolean combinations of constraints\n",
    "\n",
    "for @astrofrog by @bmorris3!\n",
    "\n",
    "Construct an observer, targets, times:"
   ]
  },
  {
   "cell_type": "code",
   "execution_count": 2,
   "metadata": {
    "collapsed": true
   },
   "outputs": [],
   "source": [
    "from __future__ import (absolute_import, division, print_function,\n",
    "                        unicode_literals)\n",
    "\n",
    "from astropy.time import Time\n",
    "import astropy.units as u\n",
    "\n",
    "from astroplan import Observer, FixedTarget\n",
    "\n",
    "# Observe from Keck\n",
    "obs = Observer.at_site(\"Keck\")\n",
    "\n",
    "# Observe these three stars\n",
    "name_list = ['vega', 'rigel', 'sirius']\n",
    "target_list = [FixedTarget.from_name(name) for name in name_list]\n",
    "\n",
    "# Check constraints once an hour for one day\n",
    "times = Time.now() + u.Quantity(range(24), unit=u.hour)"
   ]
  },
  {
   "cell_type": "markdown",
   "metadata": {},
   "source": [
    "Make a list of constraints to compute:"
   ]
  },
  {
   "cell_type": "code",
   "execution_count": 10,
   "metadata": {
    "collapsed": false
   },
   "outputs": [
    {
     "name": "stdout",
     "output_type": "stream",
     "text": [
      "AltitudeConstraint result: (col=time, row=target)\n",
      "[[ True  True  True  True  True  True  True False False False False False\n",
      "  False False False False False False False False False  True  True  True]\n",
      " [False False False False False False False False False  True  True  True\n",
      "   True  True  True  True  True False False False False False False False]\n",
      " [False False False False False False False False False False False  True\n",
      "   True  True  True  True  True  True False False False False False False]]\n"
     ]
    }
   ],
   "source": [
    "from astroplan import (AltitudeConstraint, MoonSeparationConstraint, \n",
    "                       AtNightConstraint)\n",
    "from astropy.time import Time\n",
    "\n",
    "# Make an instance of each constraint\n",
    "constraint1 = AltitudeConstraint(min=25*u.deg)\n",
    "constraint2 = AtNightConstraint.twilight_astronomical()\n",
    "constraint3 = MoonSeparationConstraint(min=30*u.deg)\n",
    "\n",
    "# Apply each constraint, store each result separately\n",
    "c1, c2, c3 = [c(obs, target_list, times) \n",
    "              for c in [constraint1, constraint2, constraint3]]\n",
    "\n",
    "# Show one result\n",
    "print(\"AltitudeConstraint result: (col=time, row=target)\\n{0}\".format(c1))"
   ]
  },
  {
   "cell_type": "markdown",
   "metadata": {},
   "source": [
    "Now combine those constraint results with non-trivial boolean logic:"
   ]
  },
  {
   "cell_type": "code",
   "execution_count": 11,
   "metadata": {
    "collapsed": false
   },
   "outputs": [
    {
     "data": {
      "text/plain": [
       "array([[ True,  True,  True,  True,  True,  True,  True,  True,  True,\n",
       "         True,  True,  True,  True,  True,  True,  True,  True,  True,\n",
       "         True,  True,  True, False, False, False],\n",
       "       [ True,  True,  True,  True,  True,  True,  True,  True,  True,\n",
       "         True,  True,  True,  True,  True,  True,  True,  True,  True,\n",
       "         True,  True,  True,  True,  True,  True],\n",
       "       [ True,  True,  True,  True,  True,  True,  True,  True,  True,\n",
       "         True, False,  True,  True,  True,  True,  True,  True,  True,\n",
       "         True,  True,  True,  True,  True,  True]], dtype=bool)"
      ]
     },
     "execution_count": 11,
     "metadata": {},
     "output_type": "execute_result"
    }
   ],
   "source": [
    "combination = (c1 & c2) | c3\n",
    "combination"
   ]
  },
  {
   "cell_type": "markdown",
   "metadata": {},
   "source": [
    "Simple visualization of this combined constraint result, white pixels = constraints are met, black pixels = constraints are not met. "
   ]
  },
  {
   "cell_type": "code",
   "execution_count": 26,
   "metadata": {
    "collapsed": false
   },
   "outputs": [
    {
     "data": {
      "image/png": "[encoded data removed]",
      "text/plain": [
       "<matplotlib.figure.Figure at 0x10d7fa490>"
      ]
     },
     "metadata": {},
     "output_type": "display_data"
    }
   ],
   "source": [
    "%matplotlib inline\n",
    "import matplotlib.pyplot as plt\n",
    "\n",
    "fig, ax = plt.subplots(figsize=(12, 3))\n",
    "ax.imshow(combination, interpolation='nearest', origin='lower', cmap=plt.cm.binary_r)\n",
    "ax.set_yticks(range(3))\n",
    "ax.set_yticklabels([t.name for t in target_list])\n",
    "time_inds = range(24)[::2]\n",
    "ax.set_xticks(time_inds)\n",
    "ax.set_xticklabels([t.datetime.strftime(\"%H:%M\") for t in times[time_inds]])\n",
    "ax.set_title(\"(AltitudeConstraint & AtNightConstraint) | MoonSeparationConstraint\");"
   ]
  },
  {
   "cell_type": "code",
   "execution_count": null,
   "metadata": {
    "collapsed": true
   },
   "outputs": [],
   "source": []
  }
 ],
 "metadata": {
  "kernelspec": {
   "display_name": "Python 2",
   "language": "python",
   "name": "python2"
  },
  "language_info": {
   "codemirror_mode": {
    "name": "ipython",
    "version": 2
   },
   "file_extension": ".py",
   "mimetype": "text/x-python",
   "name": "python",
   "nbconvert_exporter": "python",
   "pygments_lexer": "ipython2",
   "version": "2.7.10"
  }
 },
 "nbformat": 4,
 "nbformat_minor": 0
}
