{
 "cells": [
  {
   "cell_type": "code",
   "execution_count": 25,
   "metadata": {
    "collapsed": false
   },
   "outputs": [],
   "source": [
    "from __future__ import (absolute_import, division, print_function,\n",
    "                        unicode_literals)\n",
    "\n",
    "import numpy as np\n",
    "import astropy.units as u\n",
    "import datetime\n",
    "\n",
    "from astropy.coordinates import SkyCoord, EarthLocation, AltAz, UnitSphericalRepresentation\n",
    "from astropy.time import Time"
   ]
  },
  {
   "cell_type": "code",
   "execution_count": 55,
   "metadata": {
    "collapsed": false
   },
   "outputs": [],
   "source": [
    "# Erik's solution for simultaneously calculating altaz for multiple targets \n",
    "\n",
    "# Set up list of targets\n",
    "vega = SkyCoord.from_name('Vega')\n",
    "capella = SkyCoord.from_name('Capella')\n",
    "sirius = SkyCoord.from_name('Sirius')\n",
    "targets = [vega, capella, sirius]\n",
    "\n",
    "location = EarthLocation('10d', '45d', 0)\n",
    "\n",
    "times = Time('1995-01-01 00:00:00') + np.linspace(0, 1, 150)*u.day\n",
    "\n",
    "Ntimes = np.tile(times, len(targets))\n",
    "Ntargets = targets*len(times)\n",
    "targsc = SkyCoord(SkyCoord(Ntargets).data.represent_as(UnitSphericalRepresentation),\n",
    "                            representation=UnitSphericalRepresentation)\n",
    "\n",
    "newsc = targsc.transform_to(AltAz(location=location, obstime=Ntimes))\n",
    "#newsc.alt.reshape(3,2)  #this turns out *wrong*\n",
    "alts = newsc.alt.reshape(len(times), len(targets)).T # this is right"
   ]
  },
  {
   "cell_type": "code",
   "execution_count": 57,
   "metadata": {
    "collapsed": false
   },
   "outputs": [
    {
     "data": {
      "image/png": "[encoded data removed]",
      "text/plain": [
       "<matplotlib.figure.Figure at 0x109f49510>"
      ]
     },
     "metadata": {},
     "output_type": "display_data"
    }
   ],
   "source": [
    "%matplotlib inline\n",
    "\n",
    "# Double check by doing one star\n",
    "vega_altaz = vega.transform_to(AltAz(location=location, obstime=times))\n",
    "vega_alt = vega_altaz.alt\n",
    "\n",
    "import matplotlib.pyplot as plt\n",
    "plt.plot_date(times.plot_date, alts[0,:])\n",
    "plt.plot_date(times.plot_date, vega_alt)\n",
    "plt.show()"
   ]
  },
  {
   "cell_type": "code",
   "execution_count": null,
   "metadata": {
    "collapsed": false
   },
   "outputs": [],
   "source": [
    "# translate that solution into a method\n",
    "def target_list_to_altitudes(times, target_list, location=location):\n",
    "    Ntimes = np.tile(times, len(target_list))\n",
    "    Ntargets = target_list*len(times)\n",
    "    targsc = SkyCoord(SkyCoord(Ntargets).data.represent_as(UnitSphericalRepresentation),\n",
    "                                representation=UnitSphericalRepresentation)\n",
    "\n",
    "    newsc = targsc.transform_to(AltAz(location=location, obstime=Ntimes))\n",
    "    altitudes = newsc.alt.reshape(len(times), len(targets)).T \n",
    "    return altitudes\n",
    "\n",
    "print(target_list_to_altitudes(times, targets))"
   ]
  },
  {
   "cell_type": "code",
   "execution_count": null,
   "metadata": {
    "collapsed": true
   },
   "outputs": [],
   "source": []
  }
 ],
 "metadata": {
  "kernelspec": {
   "display_name": "Python 2",
   "language": "python",
   "name": "python2"
  },
  "language_info": {
   "codemirror_mode": {
    "name": "ipython",
    "version": 2
   },
   "file_extension": ".py",
   "mimetype": "text/x-python",
   "name": "python",
   "nbconvert_exporter": "python",
   "pygments_lexer": "ipython2",
   "version": "2.7.10"
  }
 },
 "nbformat": 4,
 "nbformat_minor": 0
}
