{
 "cells": [
  {
   "cell_type": "markdown",
   "metadata": {},
   "source": [
    "Calculate alt/az from RA/Dec/LST: \n",
    "\n",
    "$$ RA = LST - \\arccos\\left[{\\sin(Alt) - \\sin(Dec) \\sin(Lat) \\over \\cos(Dec) \\cos(Lat)}\\right] $$\n",
    "or\n",
    "$$ LST = RA + \\arccos\\left[{\\sin(Alt) - \\sin(Dec) \\sin(Lat) \\over \\cos(Dec) \\cos(Lat)}\\right] $$\n",
    "References: see [here](http://en.wikibooks.org/wiki/General_Astronomy/Coordinate_Systems) and [here](http://en.wikipedia.org/wiki/Celestial_coordinate_system#Equatorial_.E2.86.90.E2.86.92_horizontal)"
   ]
  },
  {
   "cell_type": "code",
   "execution_count": 18,
   "metadata": {
    "collapsed": false
   },
   "outputs": [
    {
     "name": "stdout",
     "output_type": "stream",
     "text": [
      "Hour angle: 1.57079632679\n"
     ]
    },
    {
     "ename": "IndexError",
     "evalue": "(some) times are outside of range covered by IERS table.",
     "output_type": "error",
     "traceback": [
      "\u001b[0;31m---------------------------------------------------------------------------\u001b[0m",
      "\u001b[0;31mIndexError\u001b[0m                                Traceback (most recent call last)",
      "\u001b[0;32m<ipython-input-18-cfbde715f0b1>\u001b[0m in \u001b[0;36m<module>\u001b[0;34m()\u001b[0m\n\u001b[1;32m     25\u001b[0m print(\"UT: {0}\".format(HA2UT(HA, \n\u001b[1;32m     26\u001b[0m                        Time('2015-05-12 00:00:00', \n\u001b[0;32m---> 27\u001b[0;31m                             format='iso'), longitude)))\n\u001b[0m",
      "\u001b[0;32m<ipython-input-18-cfbde715f0b1>\u001b[0m in \u001b[0;36mHA2UT\u001b[0;34m(HA, time, longitude, kind)\u001b[0m\n\u001b[1;32m     18\u001b[0m     \u001b[0mtime\u001b[0m \u001b[0;34m:\u001b[0m \u001b[0minstance\u001b[0m \u001b[0mof\u001b[0m \u001b[0;34m`\u001b[0m\u001b[0mastropy\u001b[0m\u001b[0;34m.\u001b[0m\u001b[0mtime\u001b[0m\u001b[0;34m.\u001b[0m\u001b[0mTime\u001b[0m\u001b[0;34m`\u001b[0m\u001b[0;34m\u001b[0m\u001b[0m\n\u001b[1;32m     19\u001b[0m     '''\n\u001b[0;32m---> 20\u001b[0;31m     \u001b[0mst\u001b[0m \u001b[0;34m=\u001b[0m \u001b[0mtime\u001b[0m\u001b[0;34m.\u001b[0m\u001b[0msidereal_time\u001b[0m\u001b[0;34m(\u001b[0m\u001b[0mkind\u001b[0m\u001b[0;34m,\u001b[0m \u001b[0mlongitude\u001b[0m\u001b[0;34m)\u001b[0m\u001b[0;34m\u001b[0m\u001b[0m\n\u001b[0m\u001b[1;32m     21\u001b[0m     \u001b[0;32mreturn\u001b[0m \u001b[0mst\u001b[0m\u001b[0;34m\u001b[0m\u001b[0m\n\u001b[1;32m     22\u001b[0m \u001b[0;34m\u001b[0m\u001b[0m\n",
      "\u001b[0;32m/Users/bmorris/anaconda/lib/python2.7/site-packages/astropy/time/core.pyc\u001b[0m in \u001b[0;36msidereal_time\u001b[0;34m(self, kind, longitude, model)\u001b[0m\n\u001b[1;32m    509\u001b[0m                                   wrap_angle=180.*u.degree)\n\u001b[1;32m    510\u001b[0m \u001b[0;34m\u001b[0m\u001b[0m\n\u001b[0;32m--> 511\u001b[0;31m         \u001b[0mgst\u001b[0m \u001b[0;34m=\u001b[0m \u001b[0mself\u001b[0m\u001b[0;34m.\u001b[0m\u001b[0m_erfa_sidereal_time\u001b[0m\u001b[0;34m(\u001b[0m\u001b[0mavailable_models\u001b[0m\u001b[0;34m[\u001b[0m\u001b[0mmodel\u001b[0m\u001b[0;34m.\u001b[0m\u001b[0mupper\u001b[0m\u001b[0;34m(\u001b[0m\u001b[0;34m)\u001b[0m\u001b[0;34m]\u001b[0m\u001b[0;34m)\u001b[0m\u001b[0;34m\u001b[0m\u001b[0m\n\u001b[0m\u001b[1;32m    512\u001b[0m         \u001b[0;32mreturn\u001b[0m \u001b[0mLongitude\u001b[0m\u001b[0;34m(\u001b[0m\u001b[0mgst\u001b[0m \u001b[0;34m+\u001b[0m \u001b[0mlongitude\u001b[0m\u001b[0;34m,\u001b[0m \u001b[0mu\u001b[0m\u001b[0;34m.\u001b[0m\u001b[0mhourangle\u001b[0m\u001b[0;34m)\u001b[0m\u001b[0;34m\u001b[0m\u001b[0m\n\u001b[1;32m    513\u001b[0m     sidereal_time.__doc__ = sidereal_time.__doc__.format(\n",
      "\u001b[0;32m/Users/bmorris/anaconda/lib/python2.7/site-packages/astropy/time/core.pyc\u001b[0m in \u001b[0;36m_erfa_sidereal_time\u001b[0;34m(self, model)\u001b[0m\n\u001b[1;32m    523\u001b[0m         erfa_parameters = [getattr(getattr(self, scale)._time, jd_part)\n\u001b[1;32m    524\u001b[0m                            \u001b[0;32mfor\u001b[0m \u001b[0mscale\u001b[0m \u001b[0;32min\u001b[0m \u001b[0mmodel\u001b[0m\u001b[0;34m[\u001b[0m\u001b[0;34m'scales'\u001b[0m\u001b[0;34m]\u001b[0m\u001b[0;34m\u001b[0m\u001b[0m\n\u001b[0;32m--> 525\u001b[0;31m                            for jd_part in ('jd1', 'jd2')]\n\u001b[0m\u001b[1;32m    526\u001b[0m \u001b[0;34m\u001b[0m\u001b[0m\n\u001b[1;32m    527\u001b[0m         \u001b[0msidereal_time\u001b[0m \u001b[0;34m=\u001b[0m \u001b[0merfa_function\u001b[0m\u001b[0;34m(\u001b[0m\u001b[0;34m*\u001b[0m\u001b[0merfa_parameters\u001b[0m\u001b[0;34m)\u001b[0m\u001b[0;34m\u001b[0m\u001b[0m\n",
      "\u001b[0;32m/Users/bmorris/anaconda/lib/python2.7/site-packages/astropy/time/core.pyc\u001b[0m in \u001b[0;36m__getattr__\u001b[0;34m(self, attr)\u001b[0m\n\u001b[1;32m    673\u001b[0m         \u001b[0;32mif\u001b[0m \u001b[0mattr\u001b[0m \u001b[0;32min\u001b[0m \u001b[0mself\u001b[0m\u001b[0;34m.\u001b[0m\u001b[0mSCALES\u001b[0m \u001b[0;32mand\u001b[0m \u001b[0mself\u001b[0m\u001b[0;34m.\u001b[0m\u001b[0mscale\u001b[0m \u001b[0;32mis\u001b[0m \u001b[0;32mnot\u001b[0m \u001b[0mNone\u001b[0m\u001b[0;34m:\u001b[0m\u001b[0;34m\u001b[0m\u001b[0m\n\u001b[1;32m    674\u001b[0m             \u001b[0mtm\u001b[0m \u001b[0;34m=\u001b[0m \u001b[0mself\u001b[0m\u001b[0;34m.\u001b[0m\u001b[0mreplicate\u001b[0m\u001b[0;34m(\u001b[0m\u001b[0;34m)\u001b[0m\u001b[0;34m\u001b[0m\u001b[0m\n\u001b[0;32m--> 675\u001b[0;31m             \u001b[0mtm\u001b[0m\u001b[0;34m.\u001b[0m\u001b[0m_set_scale\u001b[0m\u001b[0;34m(\u001b[0m\u001b[0mattr\u001b[0m\u001b[0;34m)\u001b[0m\u001b[0;34m\u001b[0m\u001b[0m\n\u001b[0m\u001b[1;32m    676\u001b[0m             \u001b[0;32mreturn\u001b[0m \u001b[0mtm\u001b[0m\u001b[0;34m\u001b[0m\u001b[0m\n\u001b[1;32m    677\u001b[0m \u001b[0;34m\u001b[0m\u001b[0m\n",
      "\u001b[0;32m/Users/bmorris/anaconda/lib/python2.7/site-packages/astropy/time/core.pyc\u001b[0m in \u001b[0;36m_set_scale\u001b[0;34m(self, scale)\u001b[0m\n\u001b[1;32m    358\u001b[0m                     \u001b[0;32mpass\u001b[0m\u001b[0;34m\u001b[0m\u001b[0m\n\u001b[1;32m    359\u001b[0m                 \u001b[0;32melse\u001b[0m\u001b[0;34m:\u001b[0m\u001b[0;34m\u001b[0m\u001b[0m\n\u001b[0;32m--> 360\u001b[0;31m                     \u001b[0margs\u001b[0m\u001b[0;34m.\u001b[0m\u001b[0mappend\u001b[0m\u001b[0;34m(\u001b[0m\u001b[0mget_dt\u001b[0m\u001b[0;34m(\u001b[0m\u001b[0mjd1\u001b[0m\u001b[0;34m,\u001b[0m \u001b[0mjd2\u001b[0m\u001b[0;34m)\u001b[0m\u001b[0;34m)\u001b[0m\u001b[0;34m\u001b[0m\u001b[0m\n\u001b[0m\u001b[1;32m    361\u001b[0m                     \u001b[0;32mbreak\u001b[0m\u001b[0;34m\u001b[0m\u001b[0m\n\u001b[1;32m    362\u001b[0m \u001b[0;34m\u001b[0m\u001b[0m\n",
      "\u001b[0;32m/Users/bmorris/anaconda/lib/python2.7/site-packages/astropy/time/core.pyc\u001b[0m in \u001b[0;36m_get_delta_ut1_utc\u001b[0;34m(self, jd1, jd2)\u001b[0m\n\u001b[1;32m    803\u001b[0m                 \u001b[0mscale\u001b[0m \u001b[0;34m=\u001b[0m \u001b[0mself\u001b[0m\u001b[0;34m.\u001b[0m\u001b[0mscale\u001b[0m\u001b[0;34m\u001b[0m\u001b[0m\n\u001b[1;32m    804\u001b[0m             \u001b[0;31m# interpolate UT1-UTC in IERS table\u001b[0m\u001b[0;34m\u001b[0m\u001b[0;34m\u001b[0m\u001b[0m\n\u001b[0;32m--> 805\u001b[0;31m             \u001b[0mdelta\u001b[0m \u001b[0;34m=\u001b[0m \u001b[0miers_table\u001b[0m\u001b[0;34m.\u001b[0m\u001b[0mut1_utc\u001b[0m\u001b[0;34m(\u001b[0m\u001b[0mjd1\u001b[0m\u001b[0;34m,\u001b[0m \u001b[0mjd2\u001b[0m\u001b[0;34m)\u001b[0m\u001b[0;34m\u001b[0m\u001b[0m\n\u001b[0m\u001b[1;32m    806\u001b[0m             \u001b[0;31m# if we interpolated using UT1 jds, we may be off by one\u001b[0m\u001b[0;34m\u001b[0m\u001b[0;34m\u001b[0m\u001b[0m\n\u001b[1;32m    807\u001b[0m             \u001b[0;31m# second near leap seconds (and very slightly off elsewhere)\u001b[0m\u001b[0;34m\u001b[0m\u001b[0;34m\u001b[0m\u001b[0m\n",
      "\u001b[0;32m/Users/bmorris/anaconda/lib/python2.7/site-packages/astropy/utils/iers/iers.pyc\u001b[0m in \u001b[0;36mut1_utc\u001b[0;34m(self, jd1, jd2, return_status)\u001b[0m\n\u001b[1;32m    232\u001b[0m             \u001b[0;31m# Not returning status, so raise an exception for out-of-range\u001b[0m\u001b[0;34m\u001b[0m\u001b[0;34m\u001b[0m\u001b[0m\n\u001b[1;32m    233\u001b[0m             \u001b[0;32mif\u001b[0m \u001b[0mnp\u001b[0m\u001b[0;34m.\u001b[0m\u001b[0many\u001b[0m\u001b[0;34m(\u001b[0m\u001b[0mi1\u001b[0m \u001b[0;34m!=\u001b[0m \u001b[0mi\u001b[0m\u001b[0;34m)\u001b[0m\u001b[0;34m:\u001b[0m\u001b[0;34m\u001b[0m\u001b[0m\n\u001b[0;32m--> 234\u001b[0;31m                 raise IndexError('(some) times are outside of range covered '\n\u001b[0m\u001b[1;32m    235\u001b[0m                                  'by IERS table.')\n\u001b[1;32m    236\u001b[0m             \u001b[0;32mreturn\u001b[0m \u001b[0mut1_utc\u001b[0m\u001b[0;34m\u001b[0m\u001b[0m\n",
      "\u001b[0;31mIndexError\u001b[0m: (some) times are outside of range covered by IERS table."
     ]
    }
   ],
   "source": [
    "import numpy as np\n",
    "from astropy.time import Time\n",
    "import astropy.units as u\n",
    "\n",
    "alt = 0.0\n",
    "RA = 0\n",
    "Dec = 0\n",
    "lat = 0\n",
    "latitude = 0*u.deg\n",
    "longitude = 0*u.deg\n",
    "\n",
    "def getHA(RA, Dec, lat, alt):\n",
    "    return RA + np.arccos( (np.sin(alt) - np.sin(Dec)*np.sin(lat))\n",
    "                          / (np.cos(Dec)*np.cos(lat)) )\n",
    "\n",
    "def HA2UT(HA, time, longitude, kind='apparent'):\n",
    "    '''\n",
    "    time : instance of `astropy.time.Time`\n",
    "    '''\n",
    "    st = time.sidereal_time(kind, longitude)\n",
    "    return st\n",
    "    \n",
    "HA = getHA(RA, Dec, lat, alt)\n",
    "print(\"Hour angle: {0}\".format(HA))\n",
    "print(\"UT: {0}\".format(HA2UT(HA, \n",
    "                       Time('2015-05-12 00:00:00', \n",
    "                            format='iso'), longitude)))\n"
   ]
  },
  {
   "cell_type": "code",
   "execution_count": 25,
   "metadata": {
    "collapsed": false
   },
   "outputs": [
    {
     "name": "stdout",
     "output_type": "stream",
     "text": [
      "15h18m45.3241s\n"
     ]
    }
   ],
   "source": [
    "print Time('2014-05-12 00:00:00',format='iso', \n",
    "           location=(longitude, latitude)).sidereal_time('apparent')"
   ]
  },
  {
   "cell_type": "code",
   "execution_count": null,
   "metadata": {
    "collapsed": true
   },
   "outputs": [],
   "source": []
  }
 ],
 "metadata": {
  "kernelspec": {
   "display_name": "Python 2",
   "language": "python",
   "name": "python2"
  },
  "language_info": {
   "codemirror_mode": {
    "name": "ipython",
    "version": 2
   },
   "file_extension": ".py",
   "mimetype": "text/x-python",
   "name": "python",
   "nbconvert_exporter": "python",
   "pygments_lexer": "ipython2",
   "version": "2.7.9"
  }
 },
 "nbformat": 4,
 "nbformat_minor": 0
}
