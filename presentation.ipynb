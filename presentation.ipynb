{
 "cells": [
  {
   "cell_type": "code",
   "execution_count": 1,
   "metadata": {
    "collapsed": true,
    "slideshow": {
     "slide_type": "skip"
    }
   },
   "outputs": [],
   "source": [
    "from __future__ import (absolute_import, division, print_function,\n",
    "                        unicode_literals)\n",
    "\n",
    "# How to convert: ipython nbconvert --to slides presentation.ipynb --post serve"
   ]
  },
  {
   "cell_type": "markdown",
   "metadata": {
    "slideshow": {
     "slide_type": "slide"
    }
   },
   "source": [
    "# `astroplan`\n",
    "\n",
    "## Plan for everything but the clouds ☁️\n",
    "\n",
    "### Brett Morris\n",
    "\n",
    "with Jazmin Berlanga Medina, Christoph Deil, Eric Jeschke, Adrian Price-Whelan, Erik Tollerud"
   ]
  },
  {
   "cell_type": "markdown",
   "metadata": {
    "slideshow": {
     "slide_type": "slide"
    }
   },
   "source": [
    "## Getting started\n",
    "\n",
    "```bash\n",
    "pip install astropy astroplan\n",
    "echo \"Optionally:\"\n",
    "pip install wcsaxes astroquery\n",
    "```\n",
    "\n",
    "## Outline\n",
    "\n",
    "* Background: `astropy`\n",
    "* `astroplan` basics"
   ]
  },
  {
   "cell_type": "markdown",
   "metadata": {
    "slideshow": {
     "slide_type": "slide"
    }
   },
   "source": [
    "\n",
    "<img src=\"https://raw.githubusercontent.com/astropy/astropy-logo/master/generated/astropy_powered.png\" width=\"300\">\n",
    "\n",
    "## Background\n",
    "\n",
    "* Open source Python astronomical toolkit\n",
    "* Generic and powerful\n",
    "* `astropy`-affiliated packages assemble more specific functionality"
   ]
  },
  {
   "cell_type": "markdown",
   "metadata": {
    "slideshow": {
     "slide_type": "subslide"
    }
   },
   "source": [
    "#### `astropy`: RA/Dec -> Alt/Az"
   ]
  },
  {
   "cell_type": "code",
   "execution_count": 21,
   "metadata": {
    "collapsed": false,
    "slideshow": {
     "slide_type": "fragment"
    }
   },
   "outputs": [
    {
     "name": "stdout",
     "output_type": "stream",
     "text": [
      "Vega (altitude, azimuth) [deg, deg] at 2016-02-09 18:00:59.186707:\n",
      "\t(69.4365111185583, 293.9051155643265)\n"
     ]
    }
   ],
   "source": [
    "# Altitude-azimuth frame: \n",
    "from astropy.coordinates import SkyCoord, EarthLocation, AltAz\n",
    "import astropy.units as u\n",
    "from astropy.time import Time\n",
    "\n",
    "# Specify location of Apache Point Observatory with astropy.coordinates.EarthLocation\n",
    "apache_point = EarthLocation.from_geodetic(-105.82*u.deg, 32.78*u.deg, 2798*u.m)\n",
    "\n",
    "# Specify star's location with astropy.coordinates.SkyCoord\n",
    "vega_icrs = SkyCoord(ra=279.235416*u.deg, dec=38.78516*u.deg)\n",
    "\n",
    "# Initialize an altitude/azimuth frame at the present time\n",
    "time = Time.now()\n",
    "altaz_frame = AltAz(obstime=time, location=apache_point)\n",
    "\n",
    "# Get Vega's alt/az position now\n",
    "vega_altaz = vega_icrs.transform_to(altaz_frame)\n",
    "print(\"Vega (altitude, azimuth) [deg, deg] at {}:\\n\\t({}, {})\"\n",
    "      .format(time, vega_altaz.alt.degree, vega_altaz.az.degree))"
   ]
  },
  {
   "cell_type": "markdown",
   "metadata": {
    "slideshow": {
     "slide_type": "skip"
    }
   },
   "source": [
    "#### `astropy`: Get coordinates of the Sun"
   ]
  },
  {
   "cell_type": "code",
   "execution_count": 3,
   "metadata": {
    "collapsed": false,
    "slideshow": {
     "slide_type": "skip"
    }
   },
   "outputs": [
    {
     "name": "stdout",
     "output_type": "stream",
     "text": [
      "<SkyCoord (GCRS: obstime=2016-02-09 18:00:45.558567, obsgeoloc=[ 0.  0.  0.] m, obsgeovel=[ 0.  0.  0.] m / s): (ra, dec, distance) in (deg, deg, AU)\n",
      "    (323.58130405, -14.43302781, 0.986627)>\n"
     ]
    }
   ],
   "source": [
    "# Where is the sun right now?\n",
    "from astropy.coordinates import get_sun\n",
    "\n",
    "sun = get_sun(time)\n",
    "print(sun)"
   ]
  },
  {
   "cell_type": "markdown",
   "metadata": {
    "slideshow": {
     "slide_type": "slide"
    }
   },
   "source": [
    "## `astroplan` v0.1\n",
    "\n",
    "* Open source in Python\n",
    "* `astropy` powered\n",
    "* Get (alt/az) positions of targets at any time, from any observatory\n",
    "* Can I observe these targets given some constraints (airmass, moon separation, etc.)?"
   ]
  },
  {
   "cell_type": "markdown",
   "metadata": {
    "slideshow": {
     "slide_type": "slide"
    }
   },
   "source": [
    "## `astroplan` basics\n",
    "\n",
    "* `astroplan.Observer`: contains information about an observer's location, environment on the Earth"
   ]
  },
  {
   "cell_type": "code",
   "execution_count": 4,
   "metadata": {
    "collapsed": false,
    "slideshow": {
     "slide_type": "fragment"
    }
   },
   "outputs": [
    {
     "name": "stdout",
     "output_type": "stream",
     "text": [
      "(<Longitude -105.82000000000002 deg>, <Latitude 32.78000000000001 deg>, <Quantity 2797.9999999996007 m>)\n"
     ]
    }
   ],
   "source": [
    "from astroplan import Observer\n",
    "\n",
    "# Construct an astroplan.Observer at Apache Point Observatory\n",
    "apache_point = Observer.at_site(\"Apache Point\")\n",
    "apache_point = Observer.at_site(\"APO\")   # also works\n",
    "\n",
    "print(apache_point.location.to_geodetic())"
   ]
  },
  {
   "cell_type": "markdown",
   "metadata": {
    "slideshow": {
     "slide_type": "slide"
    }
   },
   "source": [
    "## `astroplan` basics\n",
    "\n",
    "* `astroplan.FixedTarget`: contains information about celestial objects with no (slow) proper motion"
   ]
  },
  {
   "cell_type": "code",
   "execution_count": 5,
   "metadata": {
    "collapsed": false,
    "slideshow": {
     "slide_type": "fragment"
    }
   },
   "outputs": [
    {
     "name": "stdout",
     "output_type": "stream",
     "text": [
      "Vega (altitude, azimuth) [deg, deg] at 2016-02-09 18:00:45.558567:\n",
      "\t(69.47999708651103, 293.92168741017167)\n"
     ]
    }
   ],
   "source": [
    "from astroplan import FixedTarget\n",
    "\n",
    "# Construct an astroplan.FixedTarget for Vega\n",
    "vega = FixedTarget.from_name(\"Vega\")  # (with internet access)\n",
    "\n",
    "# # (without internet access)\n",
    "# vega_icrs = SkyCoord(ra=279.235416*u.deg, dec=38.78516*u.deg)\n",
    "# vega = FixedTarget(coord=vega_icrs, name=\"Vega\")\n",
    "\n",
    "vega_altaz = apache_point.altaz(time, vega)\n",
    "\n",
    "print(\"Vega (altitude, azimuth) [deg, deg] at {}:\\n\\t({}, {})\"\n",
    "      .format(time, vega_altaz.alt.degree, vega_altaz.az.degree))"
   ]
  },
  {
   "cell_type": "markdown",
   "metadata": {
    "slideshow": {
     "slide_type": "slide"
    }
   },
   "source": [
    "# Convenience methods\n",
    "\n",
    "Is it night at this observatory at `time`?\n",
    "\n",
    "|     Question     |     Answer    | \n",
    "|------------------|---------------|\n",
    "| Is it nighttime? | observer.is_night(time) | \n",
    "| Is Vega up?      | observer.target_is_up(time, vega) | \n",
    "| What is the LST? | observer.local_sidereal_time(time) |\n",
    "| Hour angle of Vega? | observer.target_hour_angle(time, vega) |"
   ]
  },
  {
   "cell_type": "code",
   "execution_count": 6,
   "metadata": {
    "collapsed": false,
    "slideshow": {
     "slide_type": "fragment"
    }
   },
   "outputs": [
    {
     "data": {
      "text/plain": [
       "False"
      ]
     },
     "execution_count": 6,
     "metadata": {},
     "output_type": "execute_result"
    }
   ],
   "source": [
    "apache_point.is_night(time)"
   ]
  },
  {
   "cell_type": "markdown",
   "metadata": {
    "slideshow": {
     "slide_type": "fragment"
    }
   },
   "source": [
    "Is Vega above the horizon at `time`?"
   ]
  },
  {
   "cell_type": "code",
   "execution_count": 7,
   "metadata": {
    "collapsed": false,
    "slideshow": {
     "slide_type": "fragment"
    }
   },
   "outputs": [
    {
     "data": {
      "text/plain": [
       "True"
      ]
     },
     "execution_count": 7,
     "metadata": {},
     "output_type": "execute_result"
    }
   ],
   "source": [
    "apache_point.target_is_up(time, vega)"
   ]
  },
  {
   "cell_type": "markdown",
   "metadata": {
    "slideshow": {
     "slide_type": "slide"
    }
   },
   "source": [
    "Make your own TUI window:"
   ]
  },
  {
   "cell_type": "code",
   "execution_count": 8,
   "metadata": {
    "collapsed": false,
    "slideshow": {
     "slide_type": "fragment"
    }
   },
   "outputs": [
    {
     "data": {
      "text/latex": [
       "$20^\\mathrm{h}14^\\mathrm{m}33.7867^\\mathrm{s}$"
      ],
      "text/plain": [
       "<Longitude 20.24271852745287 hourangle>"
      ]
     },
     "execution_count": 8,
     "metadata": {},
     "output_type": "execute_result"
    }
   ],
   "source": [
    "# Local Sidereal time\n",
    "apache_point.local_sidereal_time(time)"
   ]
  },
  {
   "cell_type": "code",
   "execution_count": 9,
   "metadata": {
    "collapsed": false,
    "slideshow": {
     "slide_type": "fragment"
    }
   },
   "outputs": [
    {
     "data": {
      "text/latex": [
       "$1^\\mathrm{h}37^\\mathrm{m}37.4503^\\mathrm{s}$"
      ],
      "text/plain": [
       "<Longitude 1.6270695416528653 hourangle>"
      ]
     },
     "execution_count": 9,
     "metadata": {},
     "output_type": "execute_result"
    }
   ],
   "source": [
    "# Hour angle\n",
    "apache_point.target_hour_angle(time, vega)"
   ]
  },
  {
   "cell_type": "code",
   "execution_count": 10,
   "metadata": {
    "collapsed": false,
    "slideshow": {
     "slide_type": "fragment"
    }
   },
   "outputs": [
    {
     "data": {
      "text/latex": [
       "$-1.40668\\mathrm{rad}$"
      ],
      "text/plain": [
       "<Angle -1.406679290562635 rad>"
      ]
     },
     "execution_count": 10,
     "metadata": {},
     "output_type": "execute_result"
    }
   ],
   "source": [
    "# Parallactic angle\n",
    "apache_point.parallactic_angle(time, vega)"
   ]
  },
  {
   "cell_type": "markdown",
   "metadata": {
    "slideshow": {
     "slide_type": "slide"
    }
   },
   "source": [
    "## Rise/set times"
   ]
  },
  {
   "cell_type": "markdown",
   "metadata": {
    "slideshow": {
     "slide_type": "fragment"
    }
   },
   "source": [
    "Next sunset"
   ]
  },
  {
   "cell_type": "code",
   "execution_count": 11,
   "metadata": {
    "collapsed": false,
    "slideshow": {
     "slide_type": "fragment"
    }
   },
   "outputs": [
    {
     "name": "stdout",
     "output_type": "stream",
     "text": [
      "2457428.5303427037 = 2016-02-10 00:43:41.610\n"
     ]
    }
   ],
   "source": [
    "sunset = apache_point.sun_set_time(time, which='next')\n",
    "\n",
    "print(\"{0.jd} = {0.iso}\".format(sunset))"
   ]
  },
  {
   "cell_type": "markdown",
   "metadata": {
    "slideshow": {
     "slide_type": "fragment"
    }
   },
   "source": [
    "Next rise of Vega"
   ]
  },
  {
   "cell_type": "code",
   "execution_count": 12,
   "metadata": {
    "collapsed": false,
    "slideshow": {
     "slide_type": "fragment"
    }
   },
   "outputs": [
    {
     "name": "stdout",
     "output_type": "stream",
     "text": [
      "2016-02-10 08:16:34.025\n"
     ]
    }
   ],
   "source": [
    "vega_rise = apache_point.target_rise_time(time, vega, which='next')\n",
    "\n",
    "print(vega_rise.iso)"
   ]
  },
  {
   "cell_type": "markdown",
   "metadata": {
    "slideshow": {
     "slide_type": "fragment"
    }
   },
   "source": [
    "Next astronomical (-18 deg) twilight"
   ]
  },
  {
   "cell_type": "code",
   "execution_count": 13,
   "metadata": {
    "collapsed": false,
    "slideshow": {
     "slide_type": "fragment"
    }
   },
   "outputs": [
    {
     "name": "stdout",
     "output_type": "stream",
     "text": [
      "2016-02-10 02:11:13.449\n"
     ]
    }
   ],
   "source": [
    "astronomical_twilight = apache_point.twilight_evening_astronomical(time, which='next')\n",
    "\n",
    "print(astronomical_twilight.iso)"
   ]
  },
  {
   "cell_type": "markdown",
   "metadata": {
    "slideshow": {
     "slide_type": "fragment"
    }
   },
   "source": [
    "What is that time in local Seattle time (PST)?"
   ]
  },
  {
   "cell_type": "code",
   "execution_count": 28,
   "metadata": {
    "collapsed": false,
    "slideshow": {
     "slide_type": "fragment"
    }
   },
   "outputs": [
    {
     "data": {
      "text/plain": [
       "datetime.datetime(2016, 2, 9, 18, 11, 13, 449428, tzinfo=<DstTzInfo 'US/Pacific' PST-1 day, 16:00:00 STD>)"
      ]
     },
     "execution_count": 28,
     "metadata": {},
     "output_type": "execute_result"
    }
   ],
   "source": [
    "# Specify your time zone with `pytz`\n",
    "import pytz\n",
    "\n",
    "my_timezone = pytz.timezone('US/Pacific')\n",
    "\n",
    "astronomical_twilight.to_datetime(my_timezone)"
   ]
  },
  {
   "cell_type": "markdown",
   "metadata": {
    "slideshow": {
     "slide_type": "slide"
    }
   },
   "source": [
    "# Constraints\n",
    "\n",
    "Can I observe target(s) given:\n",
    "\n",
    "* **Time**\n",
    "  * of year\n",
    "  * of night\n",
    "  * at \"night\""
   ]
  },
  {
   "cell_type": "markdown",
   "metadata": {
    "slideshow": {
     "slide_type": "fragment"
    }
   },
   "source": [
    "* **Telescope**: \n",
    "  * Altitude constraints, i.e. 15-80$^\\circ$ altitude\n",
    "  * Location on Earth"
   ]
  },
  {
   "cell_type": "markdown",
   "metadata": {
    "slideshow": {
     "slide_type": "fragment"
    }
   },
   "source": [
    "* **Moon** separation, illumination"
   ]
  },
  {
   "cell_type": "markdown",
   "metadata": {
    "slideshow": {
     "slide_type": "slide"
    }
   },
   "source": [
    "## Constraints example\n",
    "\n",
    "Let's read in a list of RA/Dec of our targets:"
   ]
  },
  {
   "cell_type": "code",
   "execution_count": 14,
   "metadata": {
    "collapsed": false,
    "slideshow": {
     "slide_type": "fragment"
    }
   },
   "outputs": [
    {
     "name": "stdout",
     "output_type": "stream",
     "text": [
      "Overwriting targets.txt\n"
     ]
    }
   ],
   "source": [
    "%%writefile targets.txt\n",
    "# name ra_degrees dec_degrees\n",
    "Polaris 37.95456067 89.26410897\n",
    "Vega 279.234734787 38.783688956\n",
    "Albireo 292.68033548 27.959680072\n",
    "Algol 47.042218553 40.955646675\n",
    "Rigel 78.634467067 -8.201638365\n",
    "Regulus 152.092962438 11.967208776"
   ]
  },
  {
   "cell_type": "markdown",
   "metadata": {
    "slideshow": {
     "slide_type": "slide"
    }
   },
   "source": [
    "Read in target file to a list of `astroplan.FixedTarget` objects:"
   ]
  },
  {
   "cell_type": "code",
   "execution_count": 15,
   "metadata": {
    "collapsed": true,
    "slideshow": {
     "slide_type": "fragment"
    }
   },
   "outputs": [],
   "source": [
    "# Read in the table of targets\n",
    "from astropy.table import Table\n",
    "\n",
    "target_table = Table.read('targets.txt', format='ascii')\n",
    "\n",
    "# Create astroplan.FixedTarget objects for each one in the table\n",
    "from astropy.coordinates import SkyCoord\n",
    "import astropy.units as u\n",
    "\n",
    "from astroplan import FixedTarget\n",
    "\n",
    "targets = [FixedTarget(coord=SkyCoord(ra=ra*u.deg, dec=dec*u.deg), name=name)\n",
    "           for name, ra, dec in target_table]"
   ]
  },
  {
   "cell_type": "markdown",
   "metadata": {
    "slideshow": {
     "slide_type": "slide"
    }
   },
   "source": [
    "Initialize `astroplan.Observer`, observing time window:"
   ]
  },
  {
   "cell_type": "code",
   "execution_count": 16,
   "metadata": {
    "collapsed": true,
    "slideshow": {
     "slide_type": "fragment"
    }
   },
   "outputs": [],
   "source": [
    "from astroplan import Observer\n",
    "from astropy.time import Time\n",
    "\n",
    "subaru = Observer.at_site(\"Subaru\")\n",
    "time_range = Time([\"2015-08-01 06:00\", \"2015-08-01 12:00\"])"
   ]
  },
  {
   "cell_type": "markdown",
   "metadata": {
    "slideshow": {
     "slide_type": "slide"
    }
   },
   "source": [
    "Define and compute constraints:"
   ]
  },
  {
   "cell_type": "code",
   "execution_count": 17,
   "metadata": {
    "collapsed": true,
    "slideshow": {
     "slide_type": "fragment"
    }
   },
   "outputs": [],
   "source": [
    "from astroplan import (AltitudeConstraint, AirmassConstraint,\n",
    "                       AtNightConstraint)\n",
    "\n",
    "# Define constraints:\n",
    "constraints = [AltitudeConstraint(10*u.deg, 80*u.deg),\n",
    "               AirmassConstraint(5), AtNightConstraint.twilight_civil()]"
   ]
  },
  {
   "cell_type": "code",
   "execution_count": 18,
   "metadata": {
    "collapsed": true,
    "slideshow": {
     "slide_type": "skip"
    }
   },
   "outputs": [],
   "source": [
    "from astroplan import is_observable, is_always_observable\n",
    "\n",
    "# Compute: are targets *ever* observable in the time range?\n",
    "ever_observable = is_observable(constraints, subaru, targets, time_range=time_range)\n",
    "\n",
    "# Compute: are targets *always* observable in the time range?\n",
    "always_observable = is_always_observable(constraints, subaru, targets, time_range=time_range)"
   ]
  },
  {
   "cell_type": "code",
   "execution_count": 19,
   "metadata": {
    "collapsed": false,
    "slideshow": {
     "slide_type": "fragment"
    }
   },
   "outputs": [
    {
     "name": "stdout",
     "output_type": "stream",
     "text": [
      "target name ever observable always observable fraction of time observable\n",
      "----------- --------------- ----------------- ---------------------------\n",
      "    Polaris            True              True                         1.0\n",
      "       Vega            True              True                         1.0\n",
      "    Albireo            True             False              0.833333333333\n",
      "      Algol            True             False              0.166666666667\n",
      "      Rigel           False             False                         0.0\n",
      "    Regulus           False             False                         0.0\n"
     ]
    }
   ],
   "source": [
    "from astroplan import observability_table\n",
    "\n",
    "table = observability_table(constraints, subaru, targets, time_range=time_range)\n",
    "\n",
    "print(table)"
   ]
  },
  {
   "cell_type": "markdown",
   "metadata": {
    "slideshow": {
     "slide_type": "slide"
    }
   },
   "source": [
    "### Plot celestial sphere positions"
   ]
  },
  {
   "cell_type": "code",
   "execution_count": 20,
   "metadata": {
    "collapsed": false,
    "slideshow": {
     "slide_type": "-"
    }
   },
   "outputs": [
    {
     "data": {
      "image/png": "[encoded data removed]",
      "text/plain": [
       "<matplotlib.figure.Figure at 0x108fe1f98>"
      ]
     },
     "metadata": {},
     "output_type": "display_data"
    }
   ],
   "source": [
    "%matplotlib inline\n",
    "from astroplan.plots import plot_sky, plot_airmass\n",
    "\n",
    "import numpy as np\n",
    "import matplotlib.pyplot as plt\n",
    "\n",
    "plot_times = time_range[0] + np.linspace(0, 1, 10)*(time_range[1] - time_range[0])\n",
    "\n",
    "fig = plt.figure(figsize=(12, 6))\n",
    "ax0 = fig.add_subplot(121, projection='polar')\n",
    "ax1 = fig.add_subplot(122)\n",
    "\n",
    "# Plot Vega track\n",
    "plot_sky(targets[1], subaru, plot_times, ax=ax0,\n",
    "         style_kwargs=dict(color='b', label='Vega'))\n",
    "plot_airmass(targets[1], subaru, plot_times, ax=ax1,\n",
    "             style_kwargs=dict(color='b'))\n",
    "\n",
    "# Plot Albireo track\n",
    "plot_sky(targets[2], subaru, plot_times,  ax=ax0,\n",
    "         style_kwargs=dict(color='r', label='Albireo'))\n",
    "plot_airmass(targets[2], subaru, plot_times, ax=ax1,\n",
    "             style_kwargs=dict(color='r'))\n",
    "\n",
    "fig.subplots_adjust(wspace=0.4);"
   ]
  },
  {
   "cell_type": "markdown",
   "metadata": {
    "slideshow": {
     "slide_type": "slide"
    }
   },
   "source": [
    "### Plot finder charts"
   ]
  },
  {
   "cell_type": "code",
   "execution_count": 26,
   "metadata": {
    "collapsed": false,
    "slideshow": {
     "slide_type": "-"
    }
   },
   "outputs": [
    {
     "data": {
      "image/png": "[encoded data removed]",
      "text/plain": [
       "<matplotlib.figure.Figure at 0x10ee906a0>"
      ]
     },
     "metadata": {},
     "output_type": "display_data"
    }
   ],
   "source": [
    "# This method requires astroquery, wcsaxes\n",
    "from astroplan.plots import plot_finder_image\n",
    "\n",
    "m1 = FixedTarget.from_name('M1')\n",
    "\n",
    "plot_finder_image(m1, survey='DSS');"
   ]
  },
  {
   "cell_type": "markdown",
   "metadata": {
    "slideshow": {
     "slide_type": "slide"
    }
   },
   "source": [
    "## Google Summer of Code\n",
    "\n",
    "* Google supports Python Software Foundation supports `astropy`\n",
    "* `astropy` suggests projects and takes proposals for novel ones\n",
    "* Knowledgable mentors guide students through project\n",
    "\n",
    "<img src=\"https://developers.google.com/open-source/gsoc/images/gsoc2015-300x270.jpg\" width=\"200\">"
   ]
  },
  {
   "cell_type": "markdown",
   "metadata": {
    "slideshow": {
     "slide_type": "slide"
    }
   },
   "source": [
    "## Acknowledgements\n",
    "\n",
    "* Python Software Foundation\n",
    "* Google Summer of Code\n",
    "* Co-contributor/conspirator: Jazmin Berlanga Medina\n",
    "* Mentors: Christoph Deil, Eric Jeschke, Adrian Price-Whelan, Erik Tollerud\n",
    "\n",
    "\n",
    "<img src=\"https://www.python.org/static/community_logos/python-logo-master-v3-TM.png\" width=\"200\">\n"
   ]
  }
 ],
 "metadata": {
  "celltoolbar": "Slideshow",
  "kernelspec": {
   "display_name": "Python 3",
   "language": "python",
   "name": "python3"
  },
  "language_info": {
   "codemirror_mode": {
    "name": "ipython",
    "version": 3
   },
   "file_extension": ".py",
   "mimetype": "text/x-python",
   "name": "python",
   "nbconvert_exporter": "python",
   "pygments_lexer": "ipython3",
   "version": "3.5.1"
  }
 },
 "nbformat": 4,
 "nbformat_minor": 0
}
