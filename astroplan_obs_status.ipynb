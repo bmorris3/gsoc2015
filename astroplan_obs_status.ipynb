{
 "cells": [
  {
   "cell_type": "markdown",
   "metadata": {},
   "source": [
    "# `astroplan`: Interactive observation status\n",
    "\n",
    "Design your own semi-real time display built on [astroplan](http://astroplan.readthedocs.org/) and [astropy](http://astropy.readthedocs.org/)!"
   ]
  },
  {
   "cell_type": "code",
   "execution_count": 2,
   "metadata": {
    "collapsed": true
   },
   "outputs": [],
   "source": [
    "target_name = 'KOI-1426'    # Resolved with Sesame\n",
    "observatory_name = 'Apache Point Observatory' # Must be in astroplan"
   ]
  },
  {
   "cell_type": "code",
   "execution_count": 243,
   "metadata": {
    "collapsed": false
   },
   "outputs": [
    {
     "data": {
      "text/html": [
       "<table>\n",
       "<tr><th>UTC</th><td>2015-09-15 05:17:22.911</td></tr>\n",
       "<tr><th>RA [hms]</th><td>18:52:50.198</td></tr>\n",
       "<tr><th>Dec [dms]</th><td>48:46:39.5198</td></tr>\n",
       "<tr><th>Altitude</th><td>53.64$^\\circ$</td></tr>\n",
       "<tr><th>Azimuth</th><td>309.41$^\\circ$</td></tr>\n",
       "<tr><th>Zenith Ang.</th><td>36.36 deg$^\\circ$</td></tr>\n",
       "<tr><th>Airmass [sec z]</th><td>1.242</td></tr>\n",
       "<tr><th>Parallactic Ang.</th><td>-80.62$^\\circ$</td></tr>\n",
       "<tr><th>Hour Ang. [hms]</th><td>02:56:42</td></tr>\n",
       "<tr><th>LST [hms]</th><td>21:49:32</td></tr>\n",
       "<tr><th>Moon separation [dms]</th><td>94:21:21</td></tr>\n",
       "<tr><th>Moon illumination</th><td>0.03</td></tr>\n",
       "</table>"
      ],
      "text/plain": [
       "<IPython.core.display.HTML object>"
      ]
     },
     "metadata": {},
     "output_type": "display_data"
    },
    {
     "data": {
      "text/html": [
       "<table>\n",
       "<tr><th>Time</th><th>UTC</th><th>UTC-now</th></tr><tr><th>Target rise [alt>30$^\\circ$]</th><td>2015-09-15 20:57:02</td><td>15:39:37</td></tr>\n",
       "<tr><th>Target set [alt<30$^\\circ$]</th><td>2015-09-15 07:42:12</td><td>02:24:47</td></tr>\n",
       "<tr><th>Target meridian transit</th><td>2015-09-16 02:17:39</td><td>21:00:14</td></tr>\n",
       "<tr><th>Midnight</th><td>2015-09-15 06:59:08</td><td>01:41:44</td></tr>\n",
       "<tr><th>Morning astro. twilight</th><td>2015-09-15 11:24:03</td><td>06:06:38</td></tr>\n",
       "<tr><th>Morning civil twilight</th><td>2015-09-15 12:22:25</td><td>07:05:01</td></tr>\n",
       "</table>"
      ],
      "text/plain": [
       "<IPython.core.display.HTML object>"
      ]
     },
     "metadata": {},
     "output_type": "display_data"
    }
   ],
   "source": [
    "from astroplan import FixedTarget, Observer\n",
    "\n",
    "from astropy.time import Time\n",
    "import astropy.units as u\n",
    "from astropy.coordinates import angle_utilities as util\n",
    "\n",
    "from IPython.display import HTML, display\n",
    "\n",
    "def table_to_html(table):\n",
    "    \"\"\"\n",
    "    Make HTML table that prints with in a notebook \n",
    "    nicely via IPython.display.HTML, with length two rows\n",
    "    \"\"\"\n",
    "    table_tags = \"<table>\\n{0}\\n</table>\"\n",
    "    table_row_tags = \"<tr><th>{0}</th><td>{1}</td></tr>\"\n",
    "    html = table_tags.format('\\n'.join([table_row_tags.format(*row) \n",
    "                                        for row in table]))\n",
    "    return HTML(html)\n",
    "\n",
    "def hms_from_now(time):\n",
    "    \"\"\"\n",
    "    Subtract ``time`` by the present time, return difference\n",
    "    in hms format.\n",
    "    \"\"\"\n",
    "    dt = time - Time.now()\n",
    "    sign = '-' if dt < 0*u.min else '' # Determine sign\n",
    "    \n",
    "    return ('{0}{1:02.0f}:{2:02.0f}:{3:02.0f}'\n",
    "            .format(sign, *map(abs, util.hours_to_hms(dt.to(u.hour).value))))\n",
    "\n",
    "def time_table_to_html(table):\n",
    "    \"\"\"\n",
    "    Make HTML table that prints with in a notebook \n",
    "    nicely via IPython.display.HTML, with length three rows\n",
    "    \"\"\"\n",
    "    table_tags = \"<table>\\n{0}{1}\\n</table>\"\n",
    "    table_header = \"<tr><th>Time</th><th>UTC</th><th>UTC-now</th></tr>\"\n",
    "    table_row_tags = \"<tr><th>{0}</th><td>{1}</td><td>{2}</td></tr>\"\n",
    "    html = table_tags.format(table_header,\n",
    "                             '\\n'.join([table_row_tags.format(row[0], \n",
    "                                                              row[1].utc.iso.split('.')[0], \n",
    "                                                              hms_from_now(row[1])) \n",
    "                                        for row in table]))\n",
    "    return HTML(html)\n",
    "\n",
    "target = FixedTarget.from_name(target_name)\n",
    "obs = Observer.at_site(observatory_name)\n",
    "time = Time.now()\n",
    "\n",
    "# Basic target position table\n",
    "hour_angle = obs.target_hour_angle(time, target)\n",
    "local_sidereal_time = obs.local_sidereal_time(time)\n",
    "altaz = obs.altaz(time, target)\n",
    "parallactic_angle = obs.parallactic_angle(time, target)\n",
    "moon_sep = obs.moon_altaz(time).separation(target.coord)\n",
    "moon_illum = obs.moon_illumination(time)\n",
    "\n",
    "sexagesimal_kwargs = dict(sep=':', pad=True)\n",
    "position_table = [['UTC', time.utc.iso],\n",
    "                  ['RA [hms]', target.ra.to_string(unit=u.hourangle, **sexagesimal_kwargs)], \n",
    "                  ['Dec [dms]', target.dec.to_string(unit=u.deg, **sexagesimal_kwargs)],\n",
    "                  ['Altitude', '{0:.2f}$^\\circ$'.format(altaz.alt.degree)],\n",
    "                  ['Azimuth', '{0:.2f}$^\\circ$'.format(altaz.az.degree)],\n",
    "                  ['Zenith Ang.', '{0:.2f}$^\\circ$'.format(altaz.zen.to(u.degree))],\n",
    "                  ['Airmass [sec z]', '{0:.3f}'.format(altaz.secz)],\n",
    "                  ['Parallactic Ang.', '{0:.2f}$^\\circ$'.format(parallactic_angle.degree)],\n",
    "                  ['Hour Ang. [hms]', hour_angle.wrap_at(180*u.deg).to_string(precision=0, **sexagesimal_kwargs)],\n",
    "                  ['LST [hms]', local_sidereal_time.to_string(precision=0, **sexagesimal_kwargs)],\n",
    "                  ['Moon separation [dms]', moon_sep.to_string(unit=u.deg, precision=0, **sexagesimal_kwargs)],\n",
    "                  ['Moon illumination', '{0:.2f}'.format(moon_illum)]\n",
    "                 ]\n",
    "\n",
    "# Rise/set times table\n",
    "next_sun_rise_civil = obs.midnight(time, which='next')\n",
    "morning_civil = obs.twilight_morning_civil(time, which='next')\n",
    "morning_astro = obs.twilight_morning_astronomical(time, which='next')\n",
    "target_rise = obs.target_rise_time(time, target, which='next', horizon=30*u.deg)\n",
    "target_set = obs.target_set_time(time, target, which='next', horizon=30*u.deg)\n",
    "target_transit = obs.target_meridian_transit_time(time, target, which='next')\n",
    "\n",
    "time_table = [['Target rise [alt>30$^\\circ$]', target_rise],\n",
    "              ['Target set [alt<30$^\\circ$]', target_set],\n",
    "              ['Target meridian transit', target_transit],\n",
    "              ['Midnight', next_sun_rise_civil],\n",
    "              ['Morning astro. twilight', morning_astro],\n",
    "              ['Morning civil twilight', morning_civil]\n",
    "             ]\n",
    "\n",
    "# Display HTML tables in notebook\n",
    "display(table_to_html(position_table))\n",
    "display(time_table_to_html(time_table))"
   ]
  },
  {
   "cell_type": "code",
   "execution_count": null,
   "metadata": {
    "collapsed": true
   },
   "outputs": [],
   "source": []
  }
 ],
 "metadata": {
  "kernelspec": {
   "display_name": "Python 2",
   "language": "python",
   "name": "python2"
  },
  "language_info": {
   "codemirror_mode": {
    "name": "ipython",
    "version": 2
   },
   "file_extension": ".py",
   "mimetype": "text/x-python",
   "name": "python",
   "nbconvert_exporter": "python",
   "pygments_lexer": "ipython2",
   "version": "2.7.10"
  }
 },
 "nbformat": 4,
 "nbformat_minor": 0
}
