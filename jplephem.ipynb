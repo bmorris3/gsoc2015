{
 "cells": [
  {
   "cell_type": "markdown",
   "metadata": {},
   "source": [
    "## Calculate Moon position with JPLephem"
   ]
  },
  {
   "cell_type": "code",
   "execution_count": 12,
   "metadata": {
    "collapsed": false
   },
   "outputs": [
    {
     "name": "stdout",
     "output_type": "stream",
     "text": [
      "Moon RA, dec (JPLephem+astropy): 181.875855357 -1.64025322483\n",
      "Moon alt, az (JPLephem+astropy): -74.4324689126 192.06729274\n",
      "Moon RA, dec (PyEphem): 181.884487706 -1.6430988443\n",
      "Moon alt, az (PyEphem): 45.041730293 92.4731388709\n"
     ]
    }
   ],
   "source": [
    "from __future__ import (absolute_import, division, print_function,\n",
    "                        unicode_literals)\n",
    "import numpy as np\n",
    "from astropy.time import Time\n",
    "\n",
    "\n",
    "# Get position of moon relative to Earth-moon barycenter\n",
    "import jplephem\n",
    "from jplephem.spk import SPK\n",
    "# Note, this table is only good for years 1550–2650\n",
    "kernel = SPK.open('de430.bsp')\n",
    "t = Time(2457061.5, format='jd')\n",
    "position = kernel[3,301].compute(t.jd) # Earth-moon barycenter to moon\n",
    "\n",
    "# Put that in a sky coordinate\n",
    "from astropy.coordinates import SkyCoord, ICRS, GCRS, EarthLocation\n",
    "import astropy.units as u\n",
    "moon = SkyCoord(*position, unit='km', representation='cartesian').transform_to(ICRS)\n",
    "print('Moon RA, dec (JPLephem+astropy):', moon.ra.degree, moon.dec.degree)\n",
    "\n",
    "# Compute alt/az of moon at time with astropy+JPLephem\n",
    "import sys\n",
    "sys.path.insert(0, '/Users/bmorris/git/astroplan')\n",
    "from astroplan import Observer\n",
    "lat = '00:00:00'\n",
    "lon = '00:00:00'\n",
    "location = EarthLocation.from_geodetic(lon, lat, 0)\n",
    "obs = Observer(location=location, pressure=0)\n",
    "altaz = obs.altaz(t, moon)\n",
    "print('Moon alt, az (JPLephem+astropy):', altaz.alt.degree[0], altaz.az.degree[0])\n",
    "\n",
    "# Compute comparisions with PyEphem\n",
    "import ephem\n",
    "pyephem_obs = ephem.Observer()\n",
    "pyephem_obs.lat = lat\n",
    "pyephem_obs.lon = lon\n",
    "pyephem_obs.elevation = 0\n",
    "pyephem_obs.date = t.iso\n",
    "pyephem_obs.pressure = 0\n",
    "pyephem_moon = ephem.Moon()\n",
    "pyephem_moon.compute(pyephem_obs)\n",
    "print('Moon RA, dec (PyEphem):', np.degrees(pyephem_moon.a_ra), np.degrees(pyephem_moon.a_dec))\n",
    "print('Moon alt, az (PyEphem):', np.degrees(pyephem_moon.alt), np.degrees(pyephem_moon.az))"
   ]
  },
  {
   "cell_type": "code",
   "execution_count": null,
   "metadata": {
    "collapsed": true
   },
   "outputs": [],
   "source": []
  }
 ],
 "metadata": {
  "kernelspec": {
   "display_name": "Python 2",
   "language": "python",
   "name": "python2"
  }
 },
 "nbformat": 4,
 "nbformat_minor": 0
}
