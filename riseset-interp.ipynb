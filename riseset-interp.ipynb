{
 "cells": [
  {
   "cell_type": "markdown",
   "metadata": {},
   "source": [
    "# Calculating rise/set times with astropy"
   ]
  },
  {
   "cell_type": "code",
   "execution_count": 72,
   "metadata": {
    "collapsed": false
   },
   "outputs": [
    {
     "name": "stdout",
     "output_type": "stream",
     "text": [
      "2015-05-29 15:47:08.873\n"
     ]
    }
   ],
   "source": [
    "%matplotlib inline\n",
    "from __future__ import (absolute_import, division, print_function,\n",
    "                        unicode_literals)\n",
    "import numpy as np\n",
    "from scipy.optimize import leastsq, fmin_l_bfgs_b\n",
    "import matplotlib\n",
    "import matplotlib.pyplot as plt\n",
    "import datetime\n",
    "import astropy.units as u\n",
    "from astropy.coordinates import (EarthLocation, Latitude, \n",
    "                                Longitude, get_sun)\n",
    "from astropy.time import Time\n",
    "from astropy.coordinates import AltAz\n",
    "\n",
    "##################################################\n",
    "# IERS table patch from @eteq ####################\n",
    "from astropy.utils.data import download_file\n",
    "from astropy.utils import iers\n",
    "iers.IERS.iers_table = iers.IERS_A.open(download_file(iers.IERS_A_URL, \n",
    "                                                      cache=True))\n",
    "##################################################\n",
    "\n",
    "# Some convenience functions\n",
    "\n",
    "def get_altitude(target, time, location, kwargs={}):\n",
    "    '''\n",
    "    Compute altitude of a `target` at a particular time, given\n",
    "     an observer's `location` (EarthLocation).\n",
    "    '''\n",
    "    altaz = target.transform_to(AltAz(target.ra, target.dec, \n",
    "                                location=location, obstime=time,\n",
    "                                **kwargs))\n",
    "    return altaz.alt\n",
    "\n",
    "def timebracket(t0, dt, N):\n",
    "    '''\n",
    "    Generate `N` times bracketing `t0` going\n",
    "    backwards and forwards `dt` hours\n",
    "    \n",
    "    t0 : datetime.datetime\n",
    "        Initial time\n",
    "    dt : float\n",
    "        Number of hours before and after t0\n",
    "    N : int\n",
    "        Number of datetimes in range\n",
    "    '''\n",
    "    previous_dt = t0 + np.linspace(-dt, 0, N)*u.hour\n",
    "    next_dt = t0 + np.linspace(0, dt, N)*u.hour\n",
    "    return previous_dt, next_dt\n",
    "\n",
    "def timelinspace(t0, dt, N):\n",
    "    '''\n",
    "    Generate `N` linearly spaced times between `t0` \n",
    "    and t0+dt where [dt] = day\n",
    "    \n",
    "    t0 : datetime.datetime\n",
    "        Initial time\n",
    "    dt : float\n",
    "        Number of days before/after t0. \n",
    "        dt < 0 = before, dt > 0 = after\n",
    "    N : int\n",
    "        Number of times to generate in range\n",
    "    '''\n",
    "    # Keep array in time order\n",
    "    if dt > 0:\n",
    "        time_array = t0 + np.linspace(0, dt, N)*u.day\n",
    "    elif dt < 0:\n",
    "        time_array = t0 + np.linspace(dt, 0, N)*u.day\n",
    "    return time_array\n",
    "\n",
    "def horiz_cross_rising(t, a, horizon=0, unit=u.degree, \n",
    "                       return_bounds=False, return_a=False):\n",
    "    '''\n",
    "    Find time `t` when values in array `a` go from\n",
    "    negative to positive (exclude endpoints)\n",
    "    \n",
    "    `return_nearest` will return nearest times to zero-crossing\n",
    "    '''\n",
    "    condition = (a[:-1] < horizon*unit) * (a[1:] > horizon*unit)\n",
    "    if sum(condition) < 1:\n",
    "        return []\n",
    "\n",
    "    if return_bounds:\n",
    "        nearest_index = np.argwhere(condition)[0][0]\n",
    "        \n",
    "        if a[nearest_index] > horizon*unit:\n",
    "            lower_bound, upper_bound = t[nearest_index-1], t[nearest_index]\n",
    "            lower_a, upper_a = a[nearest_index-1].value, a[nearest_index].value\n",
    "        else:\n",
    "            lower_bound, upper_bound = t[nearest_index], t[nearest_index+1]\n",
    "            lower_a, upper_a = a[nearest_index].value, a[nearest_index+1].value\n",
    "        \n",
    "        if return_a:\n",
    "            return (lower_bound, upper_bound), (lower_a, upper_a)\n",
    "        else:\n",
    "            return lower_bound, upper_bound\n",
    "    \n",
    "    return t[condition][0]\n",
    "\n",
    "def horiz_cross_setting(t, a, horizon=0, unit=u.degree, return_bounds=False):\n",
    "    '''\n",
    "    Find time `t` when values in array `a` go from\n",
    "    positive to negative (exclude endpoints)\n",
    "    '''\n",
    "    condition = (a[:-1] > horizon*unit) * (a[1:] < horizon*unit)\n",
    "    if sum(condition) < 1:\n",
    "        return []\n",
    "\n",
    "    if return_bounds:\n",
    "        nearest_index = np.argwhere(condition)[0][0]\n",
    "        \n",
    "        if a[nearest_index] < horizon*unit:\n",
    "            lower_bound, upper_bound = t[nearest_index-1], t[nearest_index]\n",
    "        else:\n",
    "            lower_bound, upper_bound = t[nearest_index], t[nearest_index+1]\n",
    "        return lower_bound, upper_bound\n",
    "    \n",
    "    return t[condition][0]\n",
    "\n",
    "def get_rise(time, dt, location, N=1000, return_bounds=False, return_a=False):\n",
    "    times = timelinspace(time, dt, N)\n",
    "    sun = get_sun(times)\n",
    "    altitudes = get_altitude(sun, times, location)\n",
    "    return horiz_cross_rising(times, altitudes, \n",
    "                              return_bounds=return_bounds,\n",
    "                              return_a=return_a)\n",
    "\n",
    "# A variety of ways to compute sunrise\n",
    "\n",
    "def sunrise_doublegrid(time, location, which='nearest', N=300):\n",
    "    if which == 'nearest' or which == 'next':\n",
    "        # Calculate next sunrise\n",
    "\n",
    "        # Do a coarse search with error O(~5 minutes), \n",
    "        # return upper/lower bounds\n",
    "        rise_bounds = get_rise(time, 1, location, N=N, \n",
    "                               return_bounds=True)\n",
    "        \n",
    "        # Do a fine search with error O(~1 second),\n",
    "        # return the nearest time to sunrise\n",
    "        next_rise = get_rise(rise_bounds[0], \n",
    "                             (rise_bounds[1] - rise_bounds[0]).value, \n",
    "                             location, N=N)\n",
    "        if which == 'next':\n",
    "            return next_rise\n",
    "\n",
    "    if which == 'nearest' or which == 'previous':\n",
    "        \n",
    "        # Calculate previous sunrise\n",
    "\n",
    "        # Do a coarse search with error O(~5 minutes), \n",
    "        # return upper/lower bounds\n",
    "        rise_bounds = get_rise(time, -1, location, N=N, \n",
    "                               return_bounds=True)\n",
    "        \n",
    "        # Do a fine search with error O(~1 second),\n",
    "        # return the nearest time to sunrise\n",
    "        previous_rise = get_rise(rise_bounds[0], \n",
    "                                 (rise_bounds[1] - rise_bounds[0]).value, \n",
    "                                 location, N=N)\n",
    "        if which == 'previous':\n",
    "            return previous_rise\n",
    "    \n",
    "    if which == 'nearest':\n",
    "        if abs(previous_rise - time) < abs(next_rise - time):\n",
    "            return previous_rise\n",
    "        else: \n",
    "            return next_rise\n",
    "    raise ValueError, \"which can be: 'next', 'previous', 'nearest'\"\n",
    "\n",
    "def two_point_interp(times, altitudes):\n",
    "    '''\n",
    "    Draw a straight line between bounding times, find x-intercept.\n",
    "    '''\n",
    "    slope = (altitudes[1] - altitudes[0])/(times[1].jd - times[0].jd)\n",
    "    return Time(times[1].jd - altitudes[1]/slope, format='jd')\n",
    "\n",
    "def sunrise_dumbinterp(time, location, which='nearest', N=150):\n",
    "    if which == 'nearest' or which == 'next':\n",
    "        # Calculate next sunrise\n",
    "\n",
    "        # Do a coarse search with error O(~7.2 minutes), \n",
    "        # return upper/lower bounds, then interpolate between\n",
    "        # and find x-intercept\n",
    "        next_rise = two_point_interp(*get_rise(time, 1, location, \n",
    "                                               N=N, return_bounds=True, \n",
    "                                               return_a=True))\n",
    "\n",
    "        if False:\n",
    "            print(t_horizon, rise_bounds[0].jd,rise_bounds[1].jd)\n",
    "            x_range = np.linspace(rise_bounds[0].jd, rise_bounds[1].jd, 2)\n",
    "            y_range = slope*x_range + rise_alts[1] - slope*rise_bounds[1].jd\n",
    "            plt.plot(x_range, y_range)\n",
    "            plt.plot(x_range, rise_alts,'o')\n",
    "            plt.axvline(t_horizon)\n",
    "            plt.axhline(0)\n",
    "            plt.show()\n",
    "\n",
    "        if which == 'next':\n",
    "            return next_rise\n",
    "\n",
    "    if which == 'nearest' or which == 'previous':\n",
    "        \n",
    "        # Calculate previous sunrise\n",
    "\n",
    "        # Do a coarse search with error O(~5 minutes), \n",
    "        # return upper/lower bounds\n",
    "        rise_bounds = get_rise(time, -1, location, N=N, \n",
    "                               return_bounds=True)\n",
    "        \n",
    "        # Do a fine search with error O(~1 second),\n",
    "        # return the nearest time to sunrise\n",
    "        previous_rise = get_rise(rise_bounds[0], \n",
    "                                 (rise_bounds[1] - rise_bounds[0]).value, \n",
    "                                 location, N=N)\n",
    "        if which == 'previous':\n",
    "            return previous_rise\n",
    "    \n",
    "    if which == 'nearest':\n",
    "        if abs(previous_rise - time) < abs(next_rise - time):\n",
    "            return previous_rise\n",
    "        else: \n",
    "            return next_rise\n",
    "    raise ValueError, \"which can be: 'next', 'previous', 'nearest'\"\n",
    "    \n",
    "# Input observer location at Subaru\n",
    "latitude = '19:49:42.600'\n",
    "longitude = '-155:28:48.900'\n",
    "elevation = 0*u.m\n",
    "location = EarthLocation(lat=latitude, lon=longitude,\n",
    "                         height=elevation)\n",
    "\n",
    "time = Time('2015-05-29', \n",
    "            location=location, scale='utc')\n",
    "\n",
    "print(sunrise_dumbinterp(time, location, which='next').iso)"
   ]
  },
  {
   "cell_type": "code",
   "execution_count": 73,
   "metadata": {
    "collapsed": false
   },
   "outputs": [
    {
     "name": "stdout",
     "output_type": "stream",
     "text": [
      "1 loops, best of 3: 1.27 s per loop\n"
     ]
    }
   ],
   "source": [
    "%%timeit\n",
    "sunrise_doublegrid(time, location)"
   ]
  },
  {
   "cell_type": "code",
   "execution_count": 74,
   "metadata": {
    "collapsed": false
   },
   "outputs": [
    {
     "name": "stdout",
     "output_type": "stream",
     "text": [
      "1 loops, best of 3: 660 ms per loop\n"
     ]
    }
   ],
   "source": [
    "%%timeit\n",
    "sunrise_dumbinterp(time, location)"
   ]
  },
  {
   "cell_type": "code",
   "execution_count": 78,
   "metadata": {
    "collapsed": false
   },
   "outputs": [
    {
     "name": "stdout",
     "output_type": "stream",
     "text": [
      "doublegrid:\t2015-05-28 15:47:15.874\n",
      "interp:\t\t2015-05-28 15:47:14.629\n"
     ]
    }
   ],
   "source": [
    "print('doublegrid:\\t{}\\ninterp:\\t\\t{}'.format(sunrise_doublegrid(time, location), \n",
    "                                              sunrise_dumbinterp(time, location)))"
   ]
  },
  {
   "cell_type": "markdown",
   "metadata": {},
   "source": [
    "### How many altitudes needed to get good linear approx?"
   ]
  },
  {
   "cell_type": "code",
   "execution_count": 58,
   "metadata": {
    "collapsed": false
   },
   "outputs": [
    {
     "name": "stdout",
     "output_type": "stream",
     "text": [
      "[  10.           15.72775251   24.73621992   38.9045145    61.18805758\n",
      "   96.23506264  151.35612484  238.04916731  374.39783898  588.84365536]\n",
      "1 loops, best of 3: 431 ms per loop\n",
      "1 loops, best of 3: 475 ms per loop\n",
      "1 loops, best of 3: 438 ms per loop\n",
      "1 loops, best of 3: 459 ms per loop\n",
      "1 loops, best of 3: 508 ms per loop\n",
      "1 loops, best of 3: 565 ms per loop\n",
      "1 loops, best of 3: 671 ms per loop\n",
      "1 loops, best of 3: 836 ms per loop\n",
      "1 loops, best of 3: 1.09 s per loop\n",
      "1 loops, best of 3: 1.48 s per loop\n"
     ]
    }
   ],
   "source": [
    "timeits = []\n",
    "times = []\n",
    "N_range = np.logspace(1, 2.77, 10) #np.arange(100, 1100, 100)\n",
    "print(N_range)\n",
    "for N in N_range:\n",
    "    times.append(sunrise_dumbinterp(time, location, N=N))\n",
    "    t = %timeit -o sunrise_dumbinterp(time, location, N=N)\n",
    "    timeits.append(t.best)"
   ]
  },
  {
   "cell_type": "code",
   "execution_count": 71,
   "metadata": {
    "collapsed": false
   },
   "outputs": [
    {
     "data": {
      "image/png": "[encoded data removed]",
      "text/plain": [
       "<matplotlib.figure.Figure at 0x1097c8c10>"
      ]
     },
     "metadata": {},
     "output_type": "display_data"
    }
   ],
   "source": [
    "matplotlib.rcParams['font.size'] = 16\n",
    "fig, ax = plt.subplots(1, 2, figsize=(16,8))\n",
    "ax[0].plot_date(Time(times).plot_date, timeits, '-o')\n",
    "ax[0].set(xlabel='Sunrise [UT]', ylabel='Runtime [s]')\n",
    "[l.set(rotation=45, ha='right') for l in ax[0].get_xticklabels()]\n",
    "for x, y, N_i in zip(Time(times).plot_date, timeits, N_range):\n",
    "    ax[0].annotate(int(N_i), xy=(x,y), \n",
    "                   ha='right', va='bottom')\n",
    "\n",
    "ax[1].semilogy(N_range, \n",
    "               np.abs(24*60*60*(Time(times) - times[-1]).value))\n",
    "ax[1].set(xlabel='N grid points', ylabel='|error| [s]')\n",
    "plt.show()"
   ]
  },
  {
   "cell_type": "code",
   "execution_count": null,
   "metadata": {
    "collapsed": true
   },
   "outputs": [],
   "source": []
  }
 ],
 "metadata": {
  "kernelspec": {
   "display_name": "Python 2",
   "language": "python",
   "name": "python2"
  },
  "language_info": {
   "codemirror_mode": {
    "name": "ipython",
    "version": 2
   },
   "file_extension": ".py",
   "mimetype": "text/x-python",
   "name": "python",
   "nbconvert_exporter": "python",
   "pygments_lexer": "ipython2",
   "version": "2.7.10"
  }
 },
 "nbformat": 4,
 "nbformat_minor": 0
}
