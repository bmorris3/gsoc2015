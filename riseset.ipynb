{
 "cells": [
  {
   "cell_type": "markdown",
   "metadata": {},
   "source": [
    "# Calculating rise/set times with astropy"
   ]
  },
  {
   "cell_type": "markdown",
   "metadata": {},
   "source": [
    "Coordinate system definitions:\n",
    "\n",
    "| Parameter | Definition | \n",
    "|-----------|------------|\n",
    "| $\\alpha$  | Right ascension |\n",
    "| $\\delta$    | Declination |\n",
    "| $\\theta$ | Local sidereal time (LST) | \n",
    "| $\\theta_0$ | LST in Greenwich | \n",
    "| $H$ | Local hour angle | \n",
    "| $\\phi$ | Observer latitude | \n",
    "| $L$ | Observer longitude | \n",
    "| $h$ | Object altitude | \n",
    "| $A$ | Object azimuth | \n",
    "\n",
    "From Meeus' *Astronomical Algorithms* Equation 13.6, \n",
    "\n",
    "$$ \\sin(h) = \\sin(\\phi) \\sin(\\delta) + \\cos(\\phi) \\cos(\\delta) \\cos(H)$$\n",
    "\n",
    "and since \n",
    "\n",
    "$$ H = \\theta - \\alpha = \\theta_0 - L - \\alpha,$$\n",
    "\n",
    "$$ \\sin(h) = \\sin(\\phi) \\sin(\\delta) + \\cos(\\phi) \\cos(\\delta) \\cos(\\theta_0 - L - \\alpha)$$"
   ]
  },
  {
   "cell_type": "code",
   "execution_count": 6,
   "metadata": {
    "collapsed": false
   },
   "outputs": [
    {
     "name": "stdout",
     "output_type": "stream",
     "text": [
      "previous sunrise: 2015-05-28 15:46:53.737913\n",
      "previous sunset: 2015-05-28 04:53:59.879960\n",
      "next sunrise: 2015-05-29 15:43:04.461487\n",
      "next sunset: 2015-05-29 04:50:10.603535\n"
     ]
    }
   ],
   "source": [
    "%matplotlib inline\n",
    "from __future__ import (absolute_import, division, print_function,\n",
    "                        unicode_literals)\n",
    "\n",
    "import numpy as np\n",
    "import matplotlib.pyplot as plt\n",
    "import datetime\n",
    "import astropy.units as u\n",
    "from astropy.coordinates import Angle, EarthLocation, Latitude, \\\n",
    "                                Longitude, get_sun\n",
    "from astropy.time import Time\n",
    "\n",
    "##################################################\n",
    "# IERS table patch from @eteq ####################\n",
    "from astropy.utils.data import download_file\n",
    "from astropy.utils import iers\n",
    "iers.IERS.iers_table = iers.IERS_A.open(download_file(iers.IERS_A_URL, \n",
    "                                                      cache=True))\n",
    "##################################################\n",
    "\n",
    "# Some convenience functions\n",
    "\n",
    "def get_altitude(location, RA, dec, LST):\n",
    "    '''\n",
    "    Compute altitude of an object given its `RA` and `Dec`\n",
    "    and an observer's `location` (EarthLocation) and local\n",
    "    sidereal time `LST`.\n",
    "    '''\n",
    "    alt = np.arcsin(np.sin(location.latitude.radian)*np.sin(dec) + \n",
    "                    np.cos(location.latitude.radian)*np.cos(dec) *\n",
    "                    np.cos(LST - RA.radian))\n",
    "    return alt\n",
    "\n",
    "def timebracket(t0, dt, N):\n",
    "    '''\n",
    "    Generate `N` times bracketing `t0` going\n",
    "    backwards and forwards `dt` hours\n",
    "    \n",
    "    t0 : datetime.datetime\n",
    "        Initial time\n",
    "    dt : float\n",
    "        Number of hours before and after t0\n",
    "    N : int\n",
    "        Number of datetimes in range\n",
    "    '''\n",
    "    previous_dt = [t0 + datetime.timedelta(hours=i) \n",
    "            for i in np.linspace(-dt, 0, N)]\n",
    "    next_dt = [t0 + datetime.timedelta(hours=i) \n",
    "            for i in np.linspace(0, dt, N)]\n",
    "    return previous_dt, next_dt\n",
    "\n",
    "def zero_cross_ba(t, a):\n",
    "    '''\n",
    "    Find time `t` when values in array `a` go from\n",
    "    negative to positive (exclude endpoints)\n",
    "    '''\n",
    "    condition = (a[:-1] < 0) * (a[1:] > 0)\n",
    "    return t[condition]\n",
    "\n",
    "def zero_cross_ab(t, a):\n",
    "    '''\n",
    "    Find time `t` when values in array `a` go from\n",
    "    positive to negative (exclude endpoints)\n",
    "    '''\n",
    "    condition = (a[:-1] > 0) * (a[1:] < 0)\n",
    "    return t[condition]\n",
    "\n",
    "# Input observer location at Subaru\n",
    "latitude = '19:49:42.600'\n",
    "longitude = '-155:28:48.900'\n",
    "elevation = 0*u.m\n",
    "location = EarthLocation(lat=latitude, lon=longitude,\n",
    "                         height=elevation)\n",
    "\n",
    "LSToption = 'mean' # Choose 'mean' or 'apparent', \n",
    "# i.e., accounting for precession only, or also for nutation.\n",
    "\n",
    "# Set up a range of dates, calculate LST\n",
    "time = datetime.datetime(2015,5,29)\n",
    "previous_dates, next_dates = timebracket(time, 24.5, 3000)\n",
    "previous_times = Time(previous_dates, location=location)\n",
    "next_times = Time(next_dates, location=location)\n",
    "previous_LST = previous_times.sidereal_time(LSToption).radian\n",
    "next_LST = next_times.sidereal_time(LSToption).radian\n",
    "\n",
    "# Calculate sun's position at present, earlier, later times\n",
    "sun = get_sun(Time(time, location=location))\n",
    "previous_alt_sun = get_altitude(location, sun.ra, \n",
    "                                sun.dec, previous_LST)\n",
    "next_alt_sun = get_altitude(location, sun.ra, \n",
    "                            sun.dec, next_LST)\n",
    "\n",
    "# Use time of horizon-crossing to compute sunrise/sunset times\n",
    "print(\"previous sunrise:\",zero_cross_ba(previous_times, previous_alt_sun)[0])\n",
    "print(\"previous sunset:\",zero_cross_ab(previous_times, previous_alt_sun)[0])\n",
    "print(\"next sunrise:\",zero_cross_ba(next_times, next_alt_sun)[0])\n",
    "print(\"next sunset:\",zero_cross_ab(next_times, next_alt_sun)[0])"
   ]
  },
  {
   "cell_type": "markdown",
   "metadata": {},
   "source": [
    "### Compare to PyEphem"
   ]
  },
  {
   "cell_type": "code",
   "execution_count": 7,
   "metadata": {
    "collapsed": false
   },
   "outputs": [
    {
     "name": "stdout",
     "output_type": "stream",
     "text": [
      "previous sunrise: 2015/5/28 15:46:34\n",
      "previous sunset: 2015/5/28 04:51:36\n",
      "next sunrise: 2015/5/29 15:46:26\n",
      "next sunset: 2015/5/29 04:52:00\n"
     ]
    }
   ],
   "source": [
    "import ephem\n",
    "sun = ephem.Sun()\n",
    "obs = ephem.Observer()\n",
    "obs.lat = latitude\n",
    "obs.lon = longitude\n",
    "obs.date = time\n",
    "obs.pressure = 0 # Turn off pressure/refraction\n",
    "sun.compute(obs)\n",
    "print(\"previous sunrise:\", obs.previous_rising(sun, use_center=True))\n",
    "print(\"previous sunset:\", obs.previous_setting(sun, use_center=True))\n",
    "print(\"next sunrise:\", obs.next_rising(sun, use_center=True))\n",
    "print(\"next sunset:\", obs.next_setting(sun, use_center=True))"
   ]
  },
  {
   "cell_type": "markdown",
   "metadata": {},
   "source": [
    "### Results\n",
    "\n",
    "The $N$ parameter in `timebracket()` controls the density of time points tested for rise/set, and should therefore control the precision of the rise/set times. \n",
    "\n",
    "I'm unsure how PyEphem handles precession/nutation, which [Brandon Rhodes says uses IAU 1980 conventions](https://twitter.com/brandon_rhodes/status/605044030406303744), so I'm unsure how close the numbers should be. \n",
    "\n",
    "Also note: I'm calculating for an atmosphere without refraction, and these calculations are for sunrise/sunset as defined by when the solar centroid crosses the horizon, not the crossing of the nearest limb. This may account for part of the the differences from the [USNO](http://aa.usno.navy.mil/data/docs/RS_OneDay.php).\n",
    "\n",
    "| Event | astropy $N = 1000$| astropy $N=3000$ | PyEphem | USNO |\n",
    "|-------|-------------------|------------------|---------|------|\n",
    "|previous sunrise| 15:45:35 | 15:46:53 | 15:46:34 | [15:43](http://aa.usno.navy.mil/rstt/onedaytable?form=2&ID=AA&year=2015&month=5&day=28&place=Subaru&lon_sign=-1&lon_deg=155&lon_min=29&lat_sign=1&lat_deg=19&lat_min=50&tz=&tz_sign=-1) |\n",
    "|previous sunset| 04:53:43 | 04:53:59 | 04:51:36 | [04:55](http://aa.usno.navy.mil/rstt/onedaytable?form=2&ID=AA&year=2015&month=5&day=28&place=Subaru&lon_sign=-1&lon_deg=155&lon_min=29&lat_sign=1&lat_deg=19&lat_min=50&tz=&tz_sign=-1) |\n",
    "|next sunrise| 15:41:44 | 15:43:04 | 15:46:26 | [15:43](http://aa.usno.navy.mil/rstt/onedaytable?form=2&ID=AA&year=2015&month=5&day=29&place=Subaru&lon_sign=-1&lon_deg=155&lon_min=29&lat_sign=1&lat_deg=19&lat_min=50&tz=&tz_sign=-1) |\n",
    "|next sunset| 04:49:52 | 04:50:10 | 04:52:00 | [04:56](http://aa.usno.navy.mil/rstt/onedaytable?form=2&ID=AA&year=2015&month=5&day=29&place=Subaru&lon_sign=-1&lon_deg=155&lon_min=29&lat_sign=1&lat_deg=19&lat_min=50&tz=&tz_sign=-1) |"
   ]
  },
  {
   "cell_type": "markdown",
   "metadata": {},
   "source": [
    "### Benchmarking"
   ]
  },
  {
   "cell_type": "code",
   "execution_count": 10,
   "metadata": {
    "collapsed": false
   },
   "outputs": [
    {
     "name": "stdout",
     "output_type": "stream",
     "text": [
      "10 loops, best of 3: 104 ms per loop\n"
     ]
    }
   ],
   "source": [
    "%%timeit \n",
    "previous_dates, next_dates = timebracket(time, 24.5, 3000)\n",
    "previous_times = Time(previous_dates, location=location)\n",
    "next_times = Time(next_dates, location=location)\n",
    "previous_LST = previous_times.sidereal_time(LSToption).radian\n",
    "next_LST = next_times.sidereal_time(LSToption).radian\n",
    "sun = get_sun(Time(time, location=location))\n",
    "previous_alt_sun = get_altitude(location, sun.ra, \n",
    "                                sun.dec, previous_LST)\n",
    "sunrise = zero_cross_ba(previous_times, previous_alt_sun)[0]\n",
    "sunset = zero_cross_ab(previous_times, previous_alt_sun)[0]"
   ]
  },
  {
   "cell_type": "code",
   "execution_count": null,
   "metadata": {
    "collapsed": true
   },
   "outputs": [],
   "source": []
  }
 ],
 "metadata": {
  "kernelspec": {
   "display_name": "Python 2",
   "language": "python",
   "name": "python2"
  },
  "language_info": {
   "codemirror_mode": {
    "name": "ipython",
    "version": 2
   },
   "file_extension": ".py",
   "mimetype": "text/x-python",
   "name": "python",
   "nbconvert_exporter": "python",
   "pygments_lexer": "ipython2",
   "version": "2.7.9"
  }
 },
 "nbformat": 4,
 "nbformat_minor": 0
}
