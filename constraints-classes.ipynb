{
 "cells": [
  {
   "cell_type": "code",
   "execution_count": 57,
   "metadata": {
    "collapsed": false
   },
   "outputs": [],
   "source": [
    "from __future__ import (absolute_import, division, print_function,\n",
    "                        unicode_literals)\n",
    "\n",
    "from astroplan import Observer\n",
    "from astropy.coordinates import get_sun, SkyCoord\n",
    "from astropy.time import Time\n",
    "import astropy.units as u\n",
    "import numpy as np\n",
    "import matplotlib.pyplot as plt"
   ]
  },
  {
   "cell_type": "code",
   "execution_count": 60,
   "metadata": {
    "collapsed": false
   },
   "outputs": [],
   "source": [
    "class Constraint(object):\n",
    "    \"\"\"\n",
    "    Container for:\n",
    "     * which constraints are met\n",
    "     * a target's/sun position, cached\n",
    "    \"\"\"\n",
    "    def __init__(self, time_range, target, observer, time_resolution=0.5*u.hour):\n",
    "        self.are_met = None\n",
    "        self.target = target\n",
    "        self.time_range = time_range\n",
    "        step_days = time_resolution.to(u.day).value\n",
    "        self.times = Time(np.arange(self.time_range[0].jd,\n",
    "                                    self.time_range[1].jd+step_days, step_days),\n",
    "                          format='jd')\n",
    "        self.observer = observer\n",
    "        self.target_altaz = None\n",
    "        self.sun_altaz = None\n",
    "        self.moon_altaz = None\n",
    "        self.altaz_frame = self.observer.altaz(self.times)\n",
    "        # \"short-circuit\" for targets once they're determined unobservable\n",
    "        self.skip_future_constraints = False\n",
    "\n",
    "    def target_above_horizon(self, horizon=0*u.deg):\n",
    "        if not self.skip_future_constraints:\n",
    "            if self.target_altaz is None:\n",
    "                self.target_altaz = self.observer.altaz(self.times, self.target)\n",
    "\n",
    "            condition = self.target_altaz.alt > horizon\n",
    "            if self.are_met is None:\n",
    "                self.are_met = condition\n",
    "            else:\n",
    "                self.are_met *= condition\n",
    "\n",
    "            if not np.any(self.are_met):\n",
    "                self.skip_future_constraints = True\n",
    "\n",
    "    def sun_below_horizon(self, horizon=0*u.deg):\n",
    "        if not self.skip_future_constraints:\n",
    "            if self.sun_altaz is None:\n",
    "                self.sun_altaz = get_sun(self.times).transform_to(self.altaz_frame)\n",
    "\n",
    "            condition = self.sun_altaz.alt < horizon\n",
    "            if self.are_met is None:\n",
    "                self.are_met = condition\n",
    "            else:\n",
    "                self.are_met *= condition\n",
    "\n",
    "            if not np.any(self.are_met):\n",
    "                self.skip_future_constraints = True\n",
    "\n",
    "    def altitude_constraint(self, min=None, max=None):\n",
    "        if not self.skip_future_constraints:\n",
    "            if self.target_altaz is None:\n",
    "                self.target_altaz = self.observer.altaz(self.times, self.target)\n",
    "\n",
    "            if max is None:\n",
    "                max = 90*u.deg\n",
    "            if min is None:\n",
    "                min = -90*u.deg\n",
    "\n",
    "            condition = (min < self.target_altaz.alt) * (self.target_altaz.alt < max)\n",
    "\n",
    "            if self.are_met is None:\n",
    "                self.are_met = condition\n",
    "            else:\n",
    "                self.are_met *= condition\n",
    "\n",
    "            if not np.any(self.are_met):\n",
    "                self.skip_future_constraints = True\n",
    "\n",
    "    def airmass_constraint(self, max=None, min=None):\n",
    "        if not self.skip_future_constraints:\n",
    "            if self.target_altaz is None:\n",
    "                self.target_altaz = self.observer.altaz(self.times, self.target)\n",
    "\n",
    "            if max is None:\n",
    "                max = 100\n",
    "            if min is None:\n",
    "                min = 1\n",
    "\n",
    "            condition = (min < self.target_altaz.secz) * (self.target_altaz.secz < max)\n",
    "\n",
    "            if self.are_met is None:\n",
    "                self.are_met = condition\n",
    "            else:\n",
    "                self.are_met *= condition\n",
    "\n",
    "            if not np.any(self.are_met):\n",
    "                self.skip_future_constraints = True\n",
    "\n",
    "# Define observer, target, time range for observations\n",
    "apo = Observer.at_site(\"APO\")\n",
    "target = SkyCoord.from_name('Vega')\n",
    "start_time = Time.now()\n",
    "end_time = start_time + 3*u.day\n",
    "\n",
    "# Define constraints\n",
    "constraints = Constraint([start_time, end_time], target, apo,\n",
    "                         time_resolution=0.5*u.hour)\n",
    "constraints.target_above_horizon(horizon=20*u.deg)\n",
    "constraints.sun_below_horizon(horizon=-6*u.deg)\n",
    "constraints.airmass_constraint(max=3)"
   ]
  },
  {
   "cell_type": "markdown",
   "metadata": {},
   "source": [
    "## Visual sanity check"
   ]
  },
  {
   "cell_type": "code",
   "execution_count": 61,
   "metadata": {
    "collapsed": false
   },
   "outputs": [
    {
     "data": {
      "image/png": "[encoded data removed]",
      "text/plain": [
       "<matplotlib.figure.Figure at 0x10706f450>"
      ]
     },
     "metadata": {},
     "output_type": "display_data"
    }
   ],
   "source": [
    "%matplotlib inline\n",
    "\n",
    "fig, ax = plt.subplots(figsize=(10,6))\n",
    "# Where \"observable\", i.e. constraints met\n",
    "ax.plot_date(constraints.times.plot_date[constraints.are_met], \n",
    "             constraints.target_altaz.alt[constraints.are_met], \n",
    "             'o', label='observable')\n",
    "# Where not \"observable\", i.e. constraints not met\n",
    "ax.plot_date(constraints.times.plot_date[~constraints.are_met], \n",
    "             constraints.target_altaz.alt[~constraints.are_met], \n",
    "             label='not observable', alpha=0.2)\n",
    "\n",
    "# Draw lines at civil twilight (our defined solar horizon limits)\n",
    "ref_lines = [apo.evening_civil(start_time, which='next'),\n",
    "             apo.evening_civil(start_time+1*u.day, which='next'),\n",
    "             apo.evening_civil(start_time+2*u.day, which='next'),\n",
    "             apo.morning_civil(start_time, which='next'),\n",
    "             apo.morning_civil(start_time+1*u.day, which='next'),\n",
    "             apo.morning_civil(start_time+2*u.day, which='next')]\n",
    "[ax.axvline(ref_line.plot_date, color='k', ls='--') for ref_line in ref_lines]\n",
    "\n",
    "# Fill below minimum target altitude\n",
    "ax.fill_between([start_time.plot_date, end_time.plot_date], \n",
    "                -20, 20, color='k', alpha=0.1)\n",
    "[l.set(rotation=45, ha='right') for l in ax.get_xticklabels()]\n",
    "ax.set(xlabel='Time', ylabel=\"Target Altitude [deg]\")\n",
    "ax.legend()\n",
    "plt.show()"
   ]
  },
  {
   "cell_type": "code",
   "execution_count": null,
   "metadata": {
    "collapsed": true
   },
   "outputs": [],
   "source": []
  }
 ],
 "metadata": {
  "kernelspec": {
   "display_name": "Python 2",
   "language": "python",
   "name": "python2"
  },
  "language_info": {
   "codemirror_mode": {
    "name": "ipython",
    "version": 2
   },
   "file_extension": ".py",
   "mimetype": "text/x-python",
   "name": "python",
   "nbconvert_exporter": "python",
   "pygments_lexer": "ipython2",
   "version": "2.7.10"
  }
 },
 "nbformat": 4,
 "nbformat_minor": 0
}
